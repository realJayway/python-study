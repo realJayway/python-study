{
 "cells": [
  {
   "cell_type": "code",
   "execution_count": null,
   "metadata": {},
   "outputs": [],
   "source": []
  },
  {
   "cell_type": "code",
   "execution_count": 1,
   "metadata": {},
   "outputs": [
    {
     "name": "stdout",
     "output_type": "stream",
     "text": [
      "(150, 4) (150,)\n",
      "current best score is 0.96 best k is 1\n",
      "current best score is 0.96 best k is 1\n",
      "current best score is 0.97 best k is 5\n",
      "current best score is 0.98 best k is 7\n",
      "current best score is 0.98 best k is 7\n",
      "current best score is 0.98 best k is 7\n",
      "current best score is 0.98 best k is 7\n",
      "current best score is 0.98 best k is 7\n",
      "after cross validation, the final best k is 7\n"
     ]
    }
   ],
   "source": [
    "import numpy as np\n",
    "from sklearn import datasets\n",
    "from sklearn.neighbors import KNeighborsClassifier\n",
    "from sklearn.model_selection import KFold\n",
    "\n",
    "\n",
    "iris = datasets.load_iris()\n",
    "X = iris.data\n",
    "y = iris.target\n",
    "print(X.shape, y.shape)\n",
    "\n",
    "\n",
    "ks = [1,3,5,7,9,11,13,15]\n",
    "\n",
    "kf = KFold(n_splits = 5, random_state = 2001, shuffle = True)\n",
    "\n",
    "best_k = ks[0]\n",
    "best_score = 0\n",
    "\n",
    "\n",
    "for k in ks:\n",
    "    curr_score = 0\n",
    "    for train_index, valid_index in kf.split(X):\n",
    "        clf = KNeighborsClassifier(n_neighbors=k)\n",
    "        clf.fit(X[train_index], y[train_index])\n",
    "        curr_score = curr_score +clf.score(X[valid_index], y[valid_index])\n",
    "        \n",
    "    avg_score = curr_score/5\n",
    "    if avg_score>best_score:\n",
    "        best_k = k\n",
    "        best_score = avg_score\n",
    "    print(\"current best score is %.2f\"%best_score, \"best k is %d\"%best_k)\n",
    "\n",
    "    \n",
    "print(\"after cross validation, the final best k is %d\" %best_k)\n",
    "        "
   ]
  },
  {
   "cell_type": "code",
   "execution_count": null,
   "metadata": {},
   "outputs": [],
   "source": []
  },
  {
   "cell_type": "code",
   "execution_count": 2,
   "metadata": {},
   "outputs": [
    {
     "name": "stdout",
     "output_type": "stream",
     "text": [
      "(150, 4) (150,)\n",
      " best score is 0.98 best parameter is  {'n_neighbors': 7}\n"
     ]
    }
   ],
   "source": [
    "from sklearn.model_selection import GridSearchCV\n",
    "from sklearn import datasets\n",
    "from sklearn.neighbors import KNeighborsClassifier\n",
    "\n",
    "iris = datasets.load_iris()\n",
    "X = iris.data\n",
    "y = iris.target\n",
    "print(X.shape, y.shape)\n",
    "\n",
    "\n",
    "parameters = {'n_neighbors':[1,3,5,7,9,11,13,15]}\n",
    "knn = KNeighborsClassifier()\n",
    "\n",
    "clf = GridSearchCV(knn, parameters, cv=5)\n",
    "clf.fit(X,y)\n",
    "\n",
    "print(\" best score is %.2f\" %clf.best_score_, \"best parameter is \",clf.best_params_) # best_params 是一个数组\n"
   ]
  },
  {
   "cell_type": "code",
   "execution_count": null,
   "metadata": {},
   "outputs": [],
   "source": []
  }
 ],
 "metadata": {
  "kernelspec": {
   "display_name": "Python 3",
   "language": "python",
   "name": "python3"
  },
  "language_info": {
   "codemirror_mode": {
    "name": "ipython",
    "version": 3
   },
   "file_extension": ".py",
   "mimetype": "text/x-python",
   "name": "python",
   "nbconvert_exporter": "python",
   "pygments_lexer": "ipython3",
   "version": "3.7.3"
  }
 },
 "nbformat": 4,
 "nbformat_minor": 2
}
