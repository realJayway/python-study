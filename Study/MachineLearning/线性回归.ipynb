{
 "cells": [
  {
   "cell_type": "markdown",
   "metadata": {},
   "source": [
    "使用一个线性回归模型来拟合身高-体重的数据，也就是希望通过身高来预测标准体重。在已创建的数据集里已经给出了部分样本，所以一旦我们训练出一个模型，则可以对任意的身高数据都可以给出一个体重的预测值。这里需要分成3个部分。\n",
    "\n",
    "\n",
    "第一部分是数据的创建；\n",
    "\n",
    "第二部分是利用线性回归来拟合数据；\n",
    "\n",
    "第三部分是利用已经训练好的模型去预测任意的体重并画出对任意体重的预测值，这里需要使用plot, 并且指定颜色为蓝色(color=\"blue\")\n"
   ]
  },
  {
   "cell_type": "code",
   "execution_count": 2,
   "metadata": {},
   "outputs": [
    {
     "name": "stdout",
     "output_type": "stream",
     "text": [
      "(10, 2)\n"
     ]
    },
    {
     "data": {
      "image/png": "[encoded data removed]",
      "text/plain": [
       "<Figure size 432x288 with 1 Axes>"
      ]
     },
     "metadata": {
      "needs_background": "light"
     },
     "output_type": "display_data"
    },
    {
     "name": "stdout",
     "output_type": "stream",
     "text": [
      "Standard weight for person with 163 is 55.77\n"
     ]
    }
   ],
   "source": [
    "from sklearn import datasets, linear_model # 引用 sklearn库，主要为了使用其中的线性回归模块\n",
    "\n",
    "%matplotlib inline # 防止使用可视化库matplotlib绘图时，plt.show()过后只出现<Figure size 640x480 with 1 Axes>而没有生成图片\n",
    "\n",
    "# 创建数据集，把数据写入到numpy数组\n",
    "import numpy as np  # 引用numpy库，主要用来做科学计算\n",
    "import matplotlib.pyplot as plt   # 引用matplotlib库，主要用来画图\n",
    "data = np.array([[152,51],[156,53],[160,54],[164,55],\n",
    "                 [168,57],[172,60],[176,62],[180,65],\n",
    "                 [184,69],[188,72]])\n",
    "\n",
    "# 打印出数组的大小\n",
    "print(data.shape)\n",
    "\n",
    "x,y = data[:,0].reshape(-1,1), data[:,1]\n",
    "\n",
    "# TODO 1. 实例化一个线性回归的模型\n",
    "regr = linear_model.LinearRegression()\n",
    "\n",
    "# TODO 2. 在x,y上训练一个线性回归模型。 如果训练顺利，则regr会存储训练完成之后的结果模型\n",
    "regr.fit(x,y)\n",
    "\n",
    "# TODO 3. 画出身高与体重之间的关系\n",
    "plt.scatter(x, y, color='black')\n",
    "\n",
    "\n",
    "# 画出已训练好的线条\n",
    "plt.plot(x, regr.predict(x), color='red')\n",
    "\n",
    "# 画x,y轴的标题\n",
    "plt.xlabel('height (cm)')\n",
    "plt.ylabel('weight (kg)')\n",
    "\n",
    "plt.show() # 展示\n",
    "\n",
    "# 利用已经训练好的模型去预测身高为163的人的体重\n",
    "print (\"Standard weight for person with 163 is %.2f\"% regr.predict([[163]]))\n"
   ]
  },
  {
   "cell_type": "code",
   "execution_count": null,
   "metadata": {},
   "outputs": [],
   "source": []
  }
 ],
 "metadata": {
  "kernelspec": {
   "display_name": "Python 3",
   "language": "python",
   "name": "python3"
  },
  "language_info": {
   "codemirror_mode": {
    "name": "ipython",
    "version": 3
   },
   "file_extension": ".py",
   "mimetype": "text/x-python",
   "name": "python",
   "nbconvert_exporter": "python",
   "pygments_lexer": "ipython3",
   "version": "3.7.3"
  }
 },
 "nbformat": 4,
 "nbformat_minor": 2
}
