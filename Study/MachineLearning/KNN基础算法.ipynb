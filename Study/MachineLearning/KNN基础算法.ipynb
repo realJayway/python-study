{
 "cells": [
  {
   "cell_type": "code",
   "execution_count": null,
   "metadata": {},
   "outputs": [],
   "source": []
  },
  {
   "cell_type": "code",
   "execution_count": 8,
   "metadata": {},
   "outputs": [
    {
     "name": "stdout",
     "output_type": "stream",
     "text": [
      "Accuracy is: 0.921\n"
     ]
    }
   ],
   "source": [
    "from sklearn import datasets\n",
    "from collections import Counter  # 为了做投票\n",
    "from sklearn.model_selection import train_test_split\n",
    "import numpy as np\n",
    "\n",
    "# 导入iris数据，因为已经导入了dataset库，iris数据是其中的一个典型数据，常用于测试\n",
    "iris = datasets.load_iris()\n",
    "X = iris.data # 特征\n",
    "y = iris.target # 标签/预测值\n",
    "X_train, X_test, y_train, y_test = train_test_split(X, y, random_state=2003) # 训练数据，测试数据\n",
    "\n",
    "\n",
    "def euc_dis(instance1, instance2):\n",
    "    \"\"\"\n",
    "    计算两个样本instance1和instance2之间的欧式距离\n",
    "    instance1: 第一个样本， array型\n",
    "    instance2: 第二个样本， array型\n",
    "    \"\"\"\n",
    "\n",
    "    dist = np.sqrt(sum((instance1-instance2)**2))\n",
    "    return dist\n",
    "    \n",
    "    \n",
    "def knn_classify(X, y, testInstance, k):\n",
    "    \"\"\"\n",
    "    给定一个测试数据testInstance, 通过KNN算法来预测它的标签。 \n",
    "    X: 训练数据的特征\n",
    "    y: 训练数据的标签\n",
    "    testInstance: 测试数据，这里假定一个测试数据 array型\n",
    "    k: 选择多少个neighbors? \n",
    "    \"\"\"\n",
    "\n",
    "    distances = [euc_dis(x,testInstance) for x in X]\n",
    "    kneighbor = np.argsort(distances)[:k]\n",
    "    count = Counter(y[kneighbor])\n",
    "    return count.most_common()[0][0]\n",
    "\n",
    "# 预测结果。    \n",
    "predictions = [knn_classify(X_train, y_train, data, 3) for data in X_test]\n",
    "correct = np.count_nonzero((predictions==y_test)==True)\n",
    "print (\"Accuracy is: %.3f\" %(correct/len(X_test)))"
   ]
  },
  {
   "cell_type": "code",
   "execution_count": null,
   "metadata": {},
   "outputs": [],
   "source": []
  }
 ],
 "metadata": {
  "kernelspec": {
   "display_name": "Python 3",
   "language": "python",
   "name": "python3"
  },
  "language_info": {
   "codemirror_mode": {
    "name": "ipython",
    "version": 3
   },
   "file_extension": ".py",
   "mimetype": "text/x-python",
   "name": "python",
   "nbconvert_exporter": "python",
   "pygments_lexer": "ipython3",
   "version": "3.7.3"
  }
 },
 "nbformat": 4,
 "nbformat_minor": 2
}
