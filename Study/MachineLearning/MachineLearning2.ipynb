{
 "cells": [
  {
   "cell_type": "markdown",
   "metadata": {},
   "source": [
    "**Problem 1**"
   ]
  },
  {
   "cell_type": "markdown",
   "metadata": {},
   "source": [
    "***1.Provide an analytic solution.***"
   ]
  },
  {
   "cell_type": "markdown",
   "metadata": {},
   "source": [
    "$\\because ax^2+bx+c=0$ has real solutions $\\Leftrightarrow$ $b^2-4ac >= 0$\n",
    "<br>$\\therefore$P($ax^2+bx+c=0$ has real solutions)\n",
    "<br>=P($b^2-4ac >= 0$)\n",
    "<br>=P($b>=2\\sqrt{ac}$|a,b,c~U(0,1))\n",
    "<br>=1 - $\\int_0^1 \\int_0^1 min(2\\sqrt{ac},1) {\\rm d}a{\\rm d}c$"
   ]
  },
  {
   "cell_type": "markdown",
   "metadata": {},
   "source": [
    "$\\int_0^1 \\int_0^1 min(2\\sqrt{xy},1) {\\rm d}x{\\rm d}y$\n",
    "<br>=$(\\frac{3}{4} - \\int_\\frac{1}{4}^1 \\frac{1}{4x}{\\rm d}x)$\n",
    "<br>+$\\int_0^1 \\int_0^\\frac{1}{4} 2\\sqrt{xy} {\\rm d}x{\\rm d}y$\n",
    "<br>+$\\int_\\frac{1}{4}^1 \\ \\int_0^\\frac{1}{4x} 2\\sqrt{xy} {\\rm d}y{\\rm d}x$\n",
    "<br>=($\\frac{3}{4} - \\frac{1}{2}ln2$) +$\\frac{1}{9}$ + $\\frac{ln2}{3}$"
   ]
  },
  {
   "cell_type": "markdown",
   "metadata": {},
   "source": [
    "$\\therefore p = \\frac{5}{36} + \\frac{ln2}{6}$"
   ]
  },
  {
   "cell_type": "markdown",
   "metadata": {},
   "source": [
    "***2.Use simulation to obtain the solution with the number of simulation run as follows: 5000, 10,000, 100,000 and 1, 000, 000, and compare the result with the above analytic solution by providing absolute and relative errors (defined as the absolute and relative difference from the true value you obtain in analytic solution.***"
   ]
  },
  {
   "cell_type": "code",
   "execution_count": 1,
   "metadata": {},
   "outputs": [],
   "source": [
    "import numpy as np\n",
    "import pandas as pd\n",
    "import random"
   ]
  },
  {
   "cell_type": "code",
   "execution_count": 2,
   "metadata": {},
   "outputs": [],
   "source": [
    "Group_1 = [[random.uniform(0,1),random.uniform(0,1),random.uniform(0,1)] for i in range(5000)]\n",
    "Group_2 = [[random.uniform(0,1),random.uniform(0,1),random.uniform(0,1)] for i in range(10000)]\n",
    "Group_3 = [[random.uniform(0,1),random.uniform(0,1),random.uniform(0,1)] for i in range(100000)]\n",
    "Group_4 = [[random.uniform(0,1),random.uniform(0,1),random.uniform(0,1)] for i in range(1000000)]\n",
    "GROUP = [Group_1,Group_2,Group_3,Group_4]"
   ]
  },
  {
   "cell_type": "code",
   "execution_count": 3,
   "metadata": {},
   "outputs": [
    {
     "data": {
      "text/html": [
       "<div>\n",
       "<style scoped>\n",
       "    .dataframe tbody tr th:only-of-type {\n",
       "        vertical-align: middle;\n",
       "    }\n",
       "\n",
       "    .dataframe tbody tr th {\n",
       "        vertical-align: top;\n",
       "    }\n",
       "\n",
       "    .dataframe thead th {\n",
       "        text-align: right;\n",
       "    }\n",
       "</style>\n",
       "<table border=\"1\" class=\"dataframe\">\n",
       "  <thead>\n",
       "    <tr style=\"text-align: right;\">\n",
       "      <th></th>\n",
       "      <th>number of simulation</th>\n",
       "      <th>Probability</th>\n",
       "      <th>absolute errors</th>\n",
       "      <th>relative errors</th>\n",
       "    </tr>\n",
       "  </thead>\n",
       "  <tbody>\n",
       "    <tr>\n",
       "      <th>0</th>\n",
       "      <td>5000.0</td>\n",
       "      <td>0.257800</td>\n",
       "      <td>0.003387</td>\n",
       "      <td>0.013311</td>\n",
       "    </tr>\n",
       "    <tr>\n",
       "      <th>1</th>\n",
       "      <td>10000.0</td>\n",
       "      <td>0.252800</td>\n",
       "      <td>0.001613</td>\n",
       "      <td>0.006342</td>\n",
       "    </tr>\n",
       "    <tr>\n",
       "      <th>2</th>\n",
       "      <td>100000.0</td>\n",
       "      <td>0.253120</td>\n",
       "      <td>0.001293</td>\n",
       "      <td>0.005084</td>\n",
       "    </tr>\n",
       "    <tr>\n",
       "      <th>3</th>\n",
       "      <td>1000000.0</td>\n",
       "      <td>0.253982</td>\n",
       "      <td>0.000431</td>\n",
       "      <td>0.001696</td>\n",
       "    </tr>\n",
       "  </tbody>\n",
       "</table>\n",
       "</div>"
      ],
      "text/plain": [
       "   number of simulation  Probability  absolute errors  relative errors\n",
       "0                5000.0     0.257800         0.003387         0.013311\n",
       "1               10000.0     0.252800         0.001613         0.006342\n",
       "2              100000.0     0.253120         0.001293         0.005084\n",
       "3             1000000.0     0.253982         0.000431         0.001696"
      ]
     },
     "execution_count": 3,
     "metadata": {},
     "output_type": "execute_result"
    }
   ],
   "source": [
    "result = []\n",
    "for i in range(4):\n",
    "    count = 0\n",
    "    for group in GROUP[i]:\n",
    "        if group[1]**2 - 4*group[0]*group[2] >= 0 :\n",
    "            count += 1\n",
    "    prob = count/len(GROUP[i])\n",
    "    r_prob = 5/36 + np.log(2)/6\n",
    "    abs_err = np.abs(r_prob - prob)\n",
    "    rlt_err = abs_err/r_prob\n",
    "    result += [len(GROUP[i]),prob,abs_err,rlt_err]\n",
    "pd.DataFrame(np.reshape(result,(4,4)),columns=['number of simulation','Probability','absolute errors','relative errors'])"
   ]
  },
  {
   "cell_type": "markdown",
   "metadata": {},
   "source": [
    "***3.Apply the “whitening” techniques by getting rid of the random noises (mean, variance and correlation) from the generated random variables and do the same analysis as above. Report your result and draw some conclusion.***"
   ]
  },
  {
   "cell_type": "code",
   "execution_count": 4,
   "metadata": {},
   "outputs": [
    {
     "data": {
      "text/html": [
       "<div>\n",
       "<style scoped>\n",
       "    .dataframe tbody tr th:only-of-type {\n",
       "        vertical-align: middle;\n",
       "    }\n",
       "\n",
       "    .dataframe tbody tr th {\n",
       "        vertical-align: top;\n",
       "    }\n",
       "\n",
       "    .dataframe thead th {\n",
       "        text-align: right;\n",
       "    }\n",
       "</style>\n",
       "<table border=\"1\" class=\"dataframe\">\n",
       "  <thead>\n",
       "    <tr style=\"text-align: right;\">\n",
       "      <th></th>\n",
       "      <th>number of simulation</th>\n",
       "      <th>Probability</th>\n",
       "      <th>absolute errors</th>\n",
       "      <th>relative errors</th>\n",
       "    </tr>\n",
       "  </thead>\n",
       "  <tbody>\n",
       "    <tr>\n",
       "      <th>0</th>\n",
       "      <td>5000.0</td>\n",
       "      <td>0.259600</td>\n",
       "      <td>0.005187</td>\n",
       "      <td>0.020386</td>\n",
       "    </tr>\n",
       "    <tr>\n",
       "      <th>1</th>\n",
       "      <td>10000.0</td>\n",
       "      <td>0.252800</td>\n",
       "      <td>0.001613</td>\n",
       "      <td>0.006342</td>\n",
       "    </tr>\n",
       "    <tr>\n",
       "      <th>2</th>\n",
       "      <td>100000.0</td>\n",
       "      <td>0.252320</td>\n",
       "      <td>0.002093</td>\n",
       "      <td>0.008228</td>\n",
       "    </tr>\n",
       "    <tr>\n",
       "      <th>3</th>\n",
       "      <td>1000000.0</td>\n",
       "      <td>0.254704</td>\n",
       "      <td>0.000291</td>\n",
       "      <td>0.001142</td>\n",
       "    </tr>\n",
       "  </tbody>\n",
       "</table>\n",
       "</div>"
      ],
      "text/plain": [
       "   number of simulation  Probability  absolute errors  relative errors\n",
       "0                5000.0     0.259600         0.005187         0.020386\n",
       "1               10000.0     0.252800         0.001613         0.006342\n",
       "2              100000.0     0.252320         0.002093         0.008228\n",
       "3             1000000.0     0.254704         0.000291         0.001142"
      ]
     },
     "execution_count": 4,
     "metadata": {},
     "output_type": "execute_result"
    }
   ],
   "source": [
    "result = []\n",
    "for i in range(4):\n",
    "    Group = GROUP[i]\n",
    "    datamat = pd.DataFrame(Group)\n",
    "    Data = datamat - datamat.describe().iloc[1,:]\n",
    "    COV = Data.cov()\n",
    "    cholmat = np.linalg.cholesky(COV)\n",
    "    lamda = np.diag((1/12,1/12,1/12))\n",
    "    Data_new = np.dot(np.dot(Data,np.linalg.inv(cholmat)),np.linalg.cholesky(lamda))+0.5\n",
    "    count = 0\n",
    "    for group in Data_new:\n",
    "        if group[1]**2 - 4*group[0]*group[2] >= 0 :\n",
    "            count += 1\n",
    "    prob = count/len(Group)\n",
    "    r_prob = 5/36 + np.log(2)/6\n",
    "    abs_err = np.abs(r_prob - prob)\n",
    "    rlt_err = abs_err/r_prob\n",
    "    result += [len(GROUP[i]),prob,abs_err,rlt_err]\n",
    "pd.DataFrame(np.reshape(result,(4,4)),columns=['number of simulation','Probability','absolute errors','relative errors'])"
   ]
  },
  {
   "cell_type": "markdown",
   "metadata": {},
   "source": [
    "Conclusion"
   ]
  },
  {
   "cell_type": "markdown",
   "metadata": {},
   "source": [
    "After whitening the data, the absolute errors are very similar with the result before whitening. so there is no huge influence when applying whitening method."
   ]
  },
  {
   "cell_type": "markdown",
   "metadata": {},
   "source": [
    "**Problem 2**"
   ]
  },
  {
   "cell_type": "markdown",
   "metadata": {},
   "source": [
    "***1.Prove E(X)=􏰀$\\int_0^{+∞} S(x){\\rm d}x$***"
   ]
  },
  {
   "cell_type": "markdown",
   "metadata": {},
   "source": [
    "Proof:\n",
    "<br>E(x) = $\\int_0^{+∞} x{\\rm d} F(x)$\n",
    "<br>=$\\int_0^{+∞} {\\rm d} (xF(x))$ - $\\int_0^{+∞} F(x){\\rm d} x$\n",
    "<br>=$\\int_0^{+∞} {\\rm d} (x - xS(x))$ + $\\int_0^{+∞} S(x)-1{\\rm d} x$\n",
    "<br>=$-\\int_0^{+∞} {\\rm d}  xS(x)$ +$\\int_0^{+∞} S(x){\\rm d} x$\n",
    "<br>=-xS(x)|$_0^{+∞}$ + $\\int_0^{+∞} S(x){\\rm d} x$\n",
    "<br>=$\\int_0^{+∞} S(x){\\rm d} x$"
   ]
  },
  {
   "cell_type": "markdown",
   "metadata": {},
   "source": [
    "***2.Suppose X is the loss distribution, and we have an insurance contract with a deductible L, and ceiling U, e.g., it pays nothing if loss is less than L, and pays X − L if loss is between L and U, and U − L if loss is larger than U. Prove that the expected payoff for this insurance contract is as follows:***"
   ]
  },
  {
   "cell_type": "markdown",
   "metadata": {},
   "source": [
    "Proof:\n",
    "<br>E(D)=$\\int_L^U (X-L){\\rm d}F(x) + \\int_U^{+∞}(U-L){\\rm d}F(x)$\n",
    "<br>= $\\int_L^U {\\rm d}xF(x)$-$\\int_L^U F(x){\\rm d}x$-$\\int_L^U L{\\rm d}F(x)$+$\\int_U^{+∞}(U-L) {\\rm d}F(x)$\n",
    "<br>=$\\int_L^U {\\rm d}xF(x)$+$\\int_L^U S(x){\\rm d}x$ - $\\int_L^U {\\rm d}x$-$\\int_L^U L{\\rm d}F(x)$+$\\int_U^{+∞}(U-L) {\\rm d}F(x)$\n",
    "<br>=$\\int_L^U S(x){\\rm d}x$"
   ]
  },
  {
   "cell_type": "markdown",
   "metadata": {},
   "source": [
    "**Problem 3**"
   ]
  },
  {
   "cell_type": "markdown",
   "metadata": {},
   "source": [
    "***1.Calculate the expected present value of loss leg for the one period default swap;***"
   ]
  },
  {
   "cell_type": "markdown",
   "metadata": {},
   "source": [
    "PV(loss leg)= $P\\int_0^{\\Delta t}(1-R)e^{-rt}he^{-ht}{\\rm d}t$\n",
    "<br>=$\\frac{Ph(1-R)}{r+h}(1-e^{-(r+h)\\Delta t})$"
   ]
  },
  {
   "cell_type": "markdown",
   "metadata": {},
   "source": [
    "***2.If default occurs at time t, and 0 ≤ t ≤ ∆t, then default protection buyer would receive a refund of P (1 − t ) at the time of default from ∆tthe protection seller. Calculate the expected present value of this refund.***"
   ]
  },
  {
   "cell_type": "markdown",
   "metadata": {},
   "source": [
    "PV(refund)=$\\int_0^{\\Delta t} P(1-\\frac{t}{\\Delta t})e^{-rt}he^{-ht}{\\rm d}t$\n",
    "<br>=$Ph\\int_0^{\\Delta t} e^{-(r+h)t}{\\rm d}t$-$Ph\\int_0^{\\Delta t} \\frac{t}{\\Delta t}e^{-(r+h)t}{\\rm d}t$\n",
    "<br>=$\\frac{hP}{(r+h)\\Delta t}(\\Delta t e^{-(r+h)\\Delta t}+\\frac{e^{-(r+h)\\Delta t}-1}{r+h}+\\Delta t(1-e^{-(r+h)\\Delta t}))$\n",
    "<br>=$\\frac{hP}{(r+h)\\Delta t}(\\frac{e^{-(r+h)\\Delta t}-1}{r+h}+\\Delta t)$"
   ]
  },
  {
   "cell_type": "markdown",
   "metadata": {},
   "source": [
    "***3.What is the fair value of P for this one-period default swap?***"
   ]
  },
  {
   "cell_type": "markdown",
   "metadata": {},
   "source": [
    "Because the premiun is paid at the begining of each period,so the value of P is the PV of refund plus PV of loss leg.\n",
    "<br>P = PV(refund) + PV(loss leg)\n",
    "<br>=$\\frac{Ph(1-R)}{r+h}(1-e^{-(r+h)\\Delta t})$+$\\frac{hP}{(r+h)\\Delta t}(\\frac{e^{-(r+h)\\Delta t}-1}{r+h}+\\Delta t)$"
   ]
  },
  {
   "cell_type": "markdown",
   "metadata": {},
   "source": [
    "**Problem 4**"
   ]
  },
  {
   "cell_type": "markdown",
   "metadata": {},
   "source": [
    "***1.Download S&P 500 index price data from Yahoo:Finance or FRED (you can find examples how to do it from the resource jupyter notebook file) from January 3, 1980 to September 26, 2019. Plot the daily close price data in a time series format***"
   ]
  },
  {
   "cell_type": "code",
   "execution_count": 6,
   "metadata": {},
   "outputs": [],
   "source": [
    "import matplotlib.pyplot as plt\n",
    "import pandas_datareader.data as web\n",
    "import pandas as pd\n",
    "import numpy as np\n",
    "import datetime as dt"
   ]
  },
  {
   "cell_type": "code",
   "execution_count": 7,
   "metadata": {},
   "outputs": [],
   "source": [
    "sdt = dt.datetime(1980, 1, 3)\n",
    "edt = dt.datetime(2019, 9, 26)\n",
    "SP = pd.DataFrame(web.DataReader('^GSPC', 'yahoo', sdt, edt))"
   ]
  },
  {
   "cell_type": "code",
   "execution_count": 8,
   "metadata": {},
   "outputs": [
    {
     "data": {
      "text/html": [
       "<div>\n",
       "<style scoped>\n",
       "    .dataframe tbody tr th:only-of-type {\n",
       "        vertical-align: middle;\n",
       "    }\n",
       "\n",
       "    .dataframe tbody tr th {\n",
       "        vertical-align: top;\n",
       "    }\n",
       "\n",
       "    .dataframe thead th {\n",
       "        text-align: right;\n",
       "    }\n",
       "</style>\n",
       "<table border=\"1\" class=\"dataframe\">\n",
       "  <thead>\n",
       "    <tr style=\"text-align: right;\">\n",
       "      <th></th>\n",
       "      <th>High</th>\n",
       "      <th>Low</th>\n",
       "      <th>Open</th>\n",
       "      <th>Close</th>\n",
       "      <th>Volume</th>\n",
       "      <th>Adj Close</th>\n",
       "    </tr>\n",
       "    <tr>\n",
       "      <th>Date</th>\n",
       "      <th></th>\n",
       "      <th></th>\n",
       "      <th></th>\n",
       "      <th></th>\n",
       "      <th></th>\n",
       "      <th></th>\n",
       "    </tr>\n",
       "  </thead>\n",
       "  <tbody>\n",
       "    <tr>\n",
       "      <th>1980-01-02</th>\n",
       "      <td>108.430000</td>\n",
       "      <td>105.290001</td>\n",
       "      <td>107.940002</td>\n",
       "      <td>105.760002</td>\n",
       "      <td>40610000</td>\n",
       "      <td>105.760002</td>\n",
       "    </tr>\n",
       "    <tr>\n",
       "      <th>1980-01-03</th>\n",
       "      <td>106.080002</td>\n",
       "      <td>103.260002</td>\n",
       "      <td>105.760002</td>\n",
       "      <td>105.220001</td>\n",
       "      <td>50480000</td>\n",
       "      <td>105.220001</td>\n",
       "    </tr>\n",
       "    <tr>\n",
       "      <th>1980-01-04</th>\n",
       "      <td>107.080002</td>\n",
       "      <td>105.089996</td>\n",
       "      <td>105.220001</td>\n",
       "      <td>106.519997</td>\n",
       "      <td>39130000</td>\n",
       "      <td>106.519997</td>\n",
       "    </tr>\n",
       "    <tr>\n",
       "      <th>1980-01-07</th>\n",
       "      <td>107.800003</td>\n",
       "      <td>105.800003</td>\n",
       "      <td>106.519997</td>\n",
       "      <td>106.809998</td>\n",
       "      <td>44500000</td>\n",
       "      <td>106.809998</td>\n",
       "    </tr>\n",
       "    <tr>\n",
       "      <th>1980-01-08</th>\n",
       "      <td>109.290001</td>\n",
       "      <td>106.290001</td>\n",
       "      <td>106.809998</td>\n",
       "      <td>108.949997</td>\n",
       "      <td>53390000</td>\n",
       "      <td>108.949997</td>\n",
       "    </tr>\n",
       "  </tbody>\n",
       "</table>\n",
       "</div>"
      ],
      "text/plain": [
       "                  High         Low        Open       Close    Volume  \\\n",
       "Date                                                                   \n",
       "1980-01-02  108.430000  105.290001  107.940002  105.760002  40610000   \n",
       "1980-01-03  106.080002  103.260002  105.760002  105.220001  50480000   \n",
       "1980-01-04  107.080002  105.089996  105.220001  106.519997  39130000   \n",
       "1980-01-07  107.800003  105.800003  106.519997  106.809998  44500000   \n",
       "1980-01-08  109.290001  106.290001  106.809998  108.949997  53390000   \n",
       "\n",
       "             Adj Close  \n",
       "Date                    \n",
       "1980-01-02  105.760002  \n",
       "1980-01-03  105.220001  \n",
       "1980-01-04  106.519997  \n",
       "1980-01-07  106.809998  \n",
       "1980-01-08  108.949997  "
      ]
     },
     "execution_count": 8,
     "metadata": {},
     "output_type": "execute_result"
    }
   ],
   "source": [
    "SP.head()"
   ]
  },
  {
   "cell_type": "code",
   "execution_count": 9,
   "metadata": {},
   "outputs": [
    {
     "name": "stderr",
     "output_type": "stream",
     "text": [
      "/Users/super/anaconda3/lib/python3.6/site-packages/pandas/plotting/_converter.py:129: FutureWarning: Using an implicitly registered datetime converter for a matplotlib plotting method. The converter was registered by pandas on import. Future versions of pandas will require you to explicitly register matplotlib converters.\n",
      "\n",
      "To register the converters:\n",
      "\t>>> from pandas.plotting import register_matplotlib_converters\n",
      "\t>>> register_matplotlib_converters()\n",
      "  warnings.warn(msg, FutureWarning)\n"
     ]
    },
    {
     "data": {
      "text/plain": [
       "[<matplotlib.lines.Line2D at 0x135f0f438>]"
      ]
     },
     "execution_count": 9,
     "metadata": {},
     "output_type": "execute_result"
    },
    {
     "data": {
      "image/png": "[encoded data removed]",
      "text/plain": [
       "<Figure size 1000x600 with 1 Axes>"
      ]
     },
     "metadata": {},
     "output_type": "display_data"
    }
   ],
   "source": [
    "plt.figure(figsize = (10,6),dpi=100)\n",
    "plt.plot(SP['Close'])"
   ]
  },
  {
   "cell_type": "markdown",
   "metadata": {},
   "source": [
    "***2.Using logarithm return to calculate the average daily return, daily standard deviation for the whole period, and for the periods before and after January 1, 2000. Please scale the daily return and daily standard deviation and make them as annual numbers. You can scale the return by multiplying 250 and the standard deviation by the square root of 250 as we assume 250 trading day per year. Summarize them into a table and make comparison, and draw your comments.***"
   ]
  },
  {
   "cell_type": "code",
   "execution_count": 10,
   "metadata": {},
   "outputs": [],
   "source": [
    "SP_before = np.log(SP.iloc[:5056,3])\n",
    "SP_after = np.log(SP.iloc[5056:,3])\n",
    "SP_all = np.log(SP.iloc[:,3])\n",
    "SP_smry = pd.DataFrame([SP_all.diff().describe(),SP_before.diff().describe(),SP_after.diff().describe()],index=['SP_all','SP_before','SP_after']).iloc[:,1:3]\n",
    "SP_smry['annual_mean'] = SP_smry['mean']*250\n",
    "SP_smry['annual_std'] = SP_smry['std']*np.sqrt(250)"
   ]
  },
  {
   "cell_type": "code",
   "execution_count": 11,
   "metadata": {},
   "outputs": [
    {
     "data": {
      "text/html": [
       "<div>\n",
       "<style scoped>\n",
       "    .dataframe tbody tr th:only-of-type {\n",
       "        vertical-align: middle;\n",
       "    }\n",
       "\n",
       "    .dataframe tbody tr th {\n",
       "        vertical-align: top;\n",
       "    }\n",
       "\n",
       "    .dataframe thead th {\n",
       "        text-align: right;\n",
       "    }\n",
       "</style>\n",
       "<table border=\"1\" class=\"dataframe\">\n",
       "  <thead>\n",
       "    <tr style=\"text-align: right;\">\n",
       "      <th></th>\n",
       "      <th>mean</th>\n",
       "      <th>std</th>\n",
       "      <th>annual_mean</th>\n",
       "      <th>annual_std</th>\n",
       "    </tr>\n",
       "  </thead>\n",
       "  <tbody>\n",
       "    <tr>\n",
       "      <th>SP_all</th>\n",
       "      <td>0.000333</td>\n",
       "      <td>0.011009</td>\n",
       "      <td>0.083276</td>\n",
       "      <td>0.174070</td>\n",
       "    </tr>\n",
       "    <tr>\n",
       "      <th>SP_before</th>\n",
       "      <td>0.000521</td>\n",
       "      <td>0.009989</td>\n",
       "      <td>0.130135</td>\n",
       "      <td>0.157941</td>\n",
       "    </tr>\n",
       "    <tr>\n",
       "      <th>SP_after</th>\n",
       "      <td>0.000144</td>\n",
       "      <td>0.011957</td>\n",
       "      <td>0.036058</td>\n",
       "      <td>0.189057</td>\n",
       "    </tr>\n",
       "  </tbody>\n",
       "</table>\n",
       "</div>"
      ],
      "text/plain": [
       "               mean       std  annual_mean  annual_std\n",
       "SP_all     0.000333  0.011009     0.083276    0.174070\n",
       "SP_before  0.000521  0.009989     0.130135    0.157941\n",
       "SP_after   0.000144  0.011957     0.036058    0.189057"
      ]
     },
     "execution_count": 11,
     "metadata": {},
     "output_type": "execute_result"
    }
   ],
   "source": [
    "SP_smry"
   ]
  },
  {
   "cell_type": "markdown",
   "metadata": {},
   "source": [
    "*Comments*"
   ]
  },
  {
   "cell_type": "markdown",
   "metadata": {},
   "source": [
    "Before 2000,the sp index had more mean and less std compared with those after 2000,which means the sp index has more return and less risk before 2000."
   ]
  },
  {
   "cell_type": "markdown",
   "metadata": {},
   "source": [
    "***3.Using the data from the second period( January 1, 2000 to September 26, 2019) to calculate the daily VaR based on α = 95%, 97.50% and 99% for an investment of USD 1,000,000 dollar on the index. Daily VaR is simply a percentile measure of your investment loss amount over one day in the extreme case.***"
   ]
  },
  {
   "cell_type": "markdown",
   "metadata": {},
   "source": [
    "We assume that the data obey normal distributation, then we can use delta-normal method to calculate the daily VaR."
   ]
  },
  {
   "cell_type": "code",
   "execution_count": 24,
   "metadata": {},
   "outputs": [
    {
     "data": {
      "text/html": [
       "<div>\n",
       "<style scoped>\n",
       "    .dataframe tbody tr th:only-of-type {\n",
       "        vertical-align: middle;\n",
       "    }\n",
       "\n",
       "    .dataframe tbody tr th {\n",
       "        vertical-align: top;\n",
       "    }\n",
       "\n",
       "    .dataframe thead th {\n",
       "        text-align: right;\n",
       "    }\n",
       "</style>\n",
       "<table border=\"1\" class=\"dataframe\">\n",
       "  <thead>\n",
       "    <tr style=\"text-align: right;\">\n",
       "      <th></th>\n",
       "      <th>a</th>\n",
       "      <th>VaR</th>\n",
       "      <th>return</th>\n",
       "    </tr>\n",
       "  </thead>\n",
       "  <tbody>\n",
       "    <tr>\n",
       "      <th>0</th>\n",
       "      <td>0.950</td>\n",
       "      <td>-0.019523</td>\n",
       "      <td>-19333.989670</td>\n",
       "    </tr>\n",
       "    <tr>\n",
       "      <th>1</th>\n",
       "      <td>0.975</td>\n",
       "      <td>-0.023291</td>\n",
       "      <td>-23021.975903</td>\n",
       "    </tr>\n",
       "    <tr>\n",
       "      <th>2</th>\n",
       "      <td>0.990</td>\n",
       "      <td>-0.027672</td>\n",
       "      <td>-27292.622313</td>\n",
       "    </tr>\n",
       "  </tbody>\n",
       "</table>\n",
       "</div>"
      ],
      "text/plain": [
       "       a       VaR        return\n",
       "0  0.950 -0.019523 -19333.989670\n",
       "1  0.975 -0.023291 -23021.975903\n",
       "2  0.990 -0.027672 -27292.622313"
      ]
     },
     "execution_count": 24,
     "metadata": {},
     "output_type": "execute_result"
    }
   ],
   "source": [
    "from scipy.stats import norm\n",
    "std = SP_smry.iloc[2,1]\n",
    "mean = SP_smry.iloc[2,0]\n",
    "result=[]\n",
    "for a in [0.95,0.975,0.99]:\n",
    "    VaR = mean + norm.ppf(1-a)*std\n",
    "    ret = 1000000*(np.exp(VaR)-1)\n",
    "    result+=[a,VaR,ret] \n",
    "pd.DataFrame(np.reshape(result,(3,3)),columns=['a','VaR','return'])"
   ]
  },
  {
   "cell_type": "markdown",
   "metadata": {},
   "source": [
    "***4.Calculate the actual number of days when the market moves more than the daily VaR indicates for three different α’s, and calculate their percentages(over total trading days) and compare them with α’s for the efficacy of VaR. State your observations and draw conclusions.***"
   ]
  },
  {
   "cell_type": "code",
   "execution_count": 23,
   "metadata": {},
   "outputs": [
    {
     "data": {
      "text/html": [
       "<div>\n",
       "<style scoped>\n",
       "    .dataframe tbody tr th:only-of-type {\n",
       "        vertical-align: middle;\n",
       "    }\n",
       "\n",
       "    .dataframe tbody tr th {\n",
       "        vertical-align: top;\n",
       "    }\n",
       "\n",
       "    .dataframe thead th {\n",
       "        text-align: right;\n",
       "    }\n",
       "</style>\n",
       "<table border=\"1\" class=\"dataframe\">\n",
       "  <thead>\n",
       "    <tr style=\"text-align: right;\">\n",
       "      <th></th>\n",
       "      <th>a</th>\n",
       "      <th>actual number</th>\n",
       "      <th>theory number</th>\n",
       "    </tr>\n",
       "  </thead>\n",
       "  <tbody>\n",
       "    <tr>\n",
       "      <th>0</th>\n",
       "      <td>0.950</td>\n",
       "      <td>232.0</td>\n",
       "      <td>248.250</td>\n",
       "    </tr>\n",
       "    <tr>\n",
       "      <th>1</th>\n",
       "      <td>0.975</td>\n",
       "      <td>158.0</td>\n",
       "      <td>124.125</td>\n",
       "    </tr>\n",
       "    <tr>\n",
       "      <th>2</th>\n",
       "      <td>0.990</td>\n",
       "      <td>94.0</td>\n",
       "      <td>49.650</td>\n",
       "    </tr>\n",
       "  </tbody>\n",
       "</table>\n",
       "</div>"
      ],
      "text/plain": [
       "       a  actual number  theory number\n",
       "0  0.950          232.0        248.250\n",
       "1  0.975          158.0        124.125\n",
       "2  0.990           94.0         49.650"
      ]
     },
     "execution_count": 23,
     "metadata": {},
     "output_type": "execute_result"
    }
   ],
   "source": [
    "result = []\n",
    "for a in [0.95,0.975,0.99]:\n",
    "    num = len([num for num in SP_after.diff() if num <(mean+norm.ppf(1-a)*std)])\n",
    "    num_1 = len(SP_after)* (1-a)\n",
    "    result += [a,num,num_1]\n",
    "pd.DataFrame(np.reshape(result,(3,3)),columns=['a','actual number','theory number'])"
   ]
  },
  {
   "cell_type": "markdown",
   "metadata": {},
   "source": [
    "In theory,the actural number of days should be the number of all days multiply 1-a.\n",
    "<br>so the number of days should be 4965 $\\times$0.05=248.25,4965$\\times$0.025=124.125,4965$\\times$0.01=49.65 respectively. <br>However,232<248,158>124,94>49. \n",
    "<br>So we can conclude that the daily return obey Fat-tailed distribution."
   ]
  },
  {
   "cell_type": "markdown",
   "metadata": {},
   "source": [
    "***5.Repeat above analysis for a short position of USD 1,000,000 on the index.***"
   ]
  },
  {
   "cell_type": "code",
   "execution_count": 22,
   "metadata": {},
   "outputs": [
    {
     "data": {
      "text/html": [
       "<div>\n",
       "<style scoped>\n",
       "    .dataframe tbody tr th:only-of-type {\n",
       "        vertical-align: middle;\n",
       "    }\n",
       "\n",
       "    .dataframe tbody tr th {\n",
       "        vertical-align: top;\n",
       "    }\n",
       "\n",
       "    .dataframe thead th {\n",
       "        text-align: right;\n",
       "    }\n",
       "</style>\n",
       "<table border=\"1\" class=\"dataframe\">\n",
       "  <thead>\n",
       "    <tr style=\"text-align: right;\">\n",
       "      <th></th>\n",
       "      <th>a</th>\n",
       "      <th>VaR</th>\n",
       "      <th>return</th>\n",
       "    </tr>\n",
       "  </thead>\n",
       "  <tbody>\n",
       "    <tr>\n",
       "      <th>0</th>\n",
       "      <td>0.950</td>\n",
       "      <td>0.019812</td>\n",
       "      <td>-20009.355814</td>\n",
       "    </tr>\n",
       "    <tr>\n",
       "      <th>1</th>\n",
       "      <td>0.975</td>\n",
       "      <td>0.023580</td>\n",
       "      <td>-23859.780665</td>\n",
       "    </tr>\n",
       "    <tr>\n",
       "      <th>2</th>\n",
       "      <td>0.990</td>\n",
       "      <td>0.027960</td>\n",
       "      <td>-28355.010367</td>\n",
       "    </tr>\n",
       "  </tbody>\n",
       "</table>\n",
       "</div>"
      ],
      "text/plain": [
       "       a       VaR        return\n",
       "0  0.950  0.019812 -20009.355814\n",
       "1  0.975  0.023580 -23859.780665\n",
       "2  0.990  0.027960 -28355.010367"
      ]
     },
     "execution_count": 22,
     "metadata": {},
     "output_type": "execute_result"
    }
   ],
   "source": [
    "result=[]\n",
    "for a in [0.95,0.975,0.99]:\n",
    "    VaR = mean + norm.ppf(a)*std\n",
    "    ret = -1000000*(np.exp(VaR)-1)\n",
    "    result+=[a,VaR,ret] \n",
    "pd.DataFrame(np.reshape(result,(3,3)),columns=['a','VaR','return'])"
   ]
  },
  {
   "cell_type": "code",
   "execution_count": 20,
   "metadata": {},
   "outputs": [
    {
     "data": {
      "text/html": [
       "<div>\n",
       "<style scoped>\n",
       "    .dataframe tbody tr th:only-of-type {\n",
       "        vertical-align: middle;\n",
       "    }\n",
       "\n",
       "    .dataframe tbody tr th {\n",
       "        vertical-align: top;\n",
       "    }\n",
       "\n",
       "    .dataframe thead th {\n",
       "        text-align: right;\n",
       "    }\n",
       "</style>\n",
       "<table border=\"1\" class=\"dataframe\">\n",
       "  <thead>\n",
       "    <tr style=\"text-align: right;\">\n",
       "      <th></th>\n",
       "      <th>a</th>\n",
       "      <th>actual number</th>\n",
       "      <th>theory number</th>\n",
       "    </tr>\n",
       "  </thead>\n",
       "  <tbody>\n",
       "    <tr>\n",
       "      <th>0</th>\n",
       "      <td>0.950</td>\n",
       "      <td>177.0</td>\n",
       "      <td>248.250</td>\n",
       "    </tr>\n",
       "    <tr>\n",
       "      <th>1</th>\n",
       "      <td>0.975</td>\n",
       "      <td>117.0</td>\n",
       "      <td>124.125</td>\n",
       "    </tr>\n",
       "    <tr>\n",
       "      <th>2</th>\n",
       "      <td>0.990</td>\n",
       "      <td>82.0</td>\n",
       "      <td>49.650</td>\n",
       "    </tr>\n",
       "  </tbody>\n",
       "</table>\n",
       "</div>"
      ],
      "text/plain": [
       "       a  actual number  theory number\n",
       "0  0.950          177.0        248.250\n",
       "1  0.975          117.0        124.125\n",
       "2  0.990           82.0         49.650"
      ]
     },
     "execution_count": 20,
     "metadata": {},
     "output_type": "execute_result"
    }
   ],
   "source": [
    "result = []\n",
    "for a in [0.95,0.975,0.99]:\n",
    "    num = len([num for num in SP_after.diff() if num >(mean+norm.ppf(a)*std)])\n",
    "    num_1 = len(SP_after)* (1-a)\n",
    "    result += [a,num,num_1]\n",
    "pd.DataFrame(np.reshape(result,(3,3)),columns=['a','actual number','theory number'])"
   ]
  },
  {
   "cell_type": "markdown",
   "metadata": {},
   "source": [
    "when a = 0.99,the actual number apparently more than the theory number, so the short position also have Fat-tailed distribution, but not apparent compared with long position."
   ]
  },
  {
   "cell_type": "markdown",
   "metadata": {},
   "source": [
    "**Problem 5**"
   ]
  },
  {
   "cell_type": "markdown",
   "metadata": {},
   "source": [
    "***We have a circle with one centimeter radii, and you pick up randomly n points from the circumference, and the n points would cut the circumference into n segments. What is the expected length of the shortest arch of the n segments?***"
   ]
  },
  {
   "cell_type": "markdown",
   "metadata": {},
   "source": [
    "In this problem, we can use computer to simulate the result.The n is the number we cut the circumference,and the m is the simulation number."
   ]
  },
  {
   "cell_type": "code",
   "execution_count": 16,
   "metadata": {},
   "outputs": [],
   "source": [
    "n = 5\n",
    "m=100000"
   ]
  },
  {
   "cell_type": "code",
   "execution_count": 17,
   "metadata": {},
   "outputs": [
    {
     "name": "stdout",
     "output_type": "stream",
     "text": [
      "expected length of the shortest arch of the 5 segments is 0.2510024121367495\n"
     ]
    }
   ],
   "source": [
    "count = 0\n",
    "for k in range(m):\n",
    "    angle = [random.uniform(0,360) for i in range(n-1)]\n",
    "    angle.sort()\n",
    "    a = np.array(angle+[360])\n",
    "    b = np.array([0]+angle)\n",
    "    c = a - b\n",
    "    count += c.min()\n",
    "l = np.pi*count/(180*m)\n",
    "print('expected length of the shortest arch of the', n ,'segments is',l)"
   ]
  }
 ],
 "metadata": {
  "kernelspec": {
   "display_name": "Python 3",
   "language": "python",
   "name": "python3"
  },
  "language_info": {
   "codemirror_mode": {
    "name": "ipython",
    "version": 3
   },
   "file_extension": ".py",
   "mimetype": "text/x-python",
   "name": "python",
   "nbconvert_exporter": "python",
   "pygments_lexer": "ipython3",
   "version": "3.6.8"
  }
 },
 "nbformat": 4,
 "nbformat_minor": 2
}
