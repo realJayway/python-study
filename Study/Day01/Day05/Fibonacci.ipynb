{
 "cells": [
  {
   "cell_type": "code",
   "execution_count": 19,
   "metadata": {},
   "outputs": [
    {
     "ename": "SyntaxError",
     "evalue": "invalid character in identifier (<ipython-input-19-5e061f553634>, line 8)",
     "output_type": "error",
     "traceback": [
      "\u001b[1;36m  File \u001b[1;32m\"<ipython-input-19-5e061f553634>\"\u001b[1;36m, line \u001b[1;32m8\u001b[0m\n\u001b[1;33m    for t in range(1,10)：\u001b[0m\n\u001b[1;37m                        ^\u001b[0m\n\u001b[1;31mSyntaxError\u001b[0m\u001b[1;31m:\u001b[0m invalid character in identifier\n"
     ]
    }
   ],
   "source": [
    "\"\"\"\n",
    "生成斐波那契数列\n",
    "\"\"\"\n",
    "\n",
    "x=1\n",
    "y=1\n",
    "print(x,y,end='\\t')\n",
    "for t in range(1,10)：\n",
    "  x+=y\n",
    "  y+=x\n",
    "  print(x,y,end='\\t')"
   ]
  },
  {
   "cell_type": "code",
   "execution_count": 17,
   "metadata": {},
   "outputs": [
    {
     "name": "stdout",
     "output_type": "stream",
     "text": [
      "1 1 2 3 5 8 13 21 34 55 89 144 233 377 610 987 1597 2584 4181 6765 10946 17711 "
     ]
    }
   ],
   "source": [
    "x=1\n",
    "y=1\n",
    "print(x,y,end=' ')\n",
    "for _ in range(10):\n",
    "   x+=y\n",
    "   y+=x\n",
    "   print(x,y,end=' ') #end=' '空一格       end='\\n'换行（默认换行）"
   ]
  },
  {
   "cell_type": "code",
   "execution_count": null,
   "metadata": {},
   "outputs": [],
   "source": []
  }
 ],
 "metadata": {
  "kernelspec": {
   "display_name": "Python 3",
   "language": "python",
   "name": "python3"
  },
  "language_info": {
   "codemirror_mode": {
    "name": "ipython",
    "version": 3
   },
   "file_extension": ".py",
   "mimetype": "text/x-python",
   "name": "python",
   "nbconvert_exporter": "python",
   "pygments_lexer": "ipython3",
   "version": "3.7.3"
  }
 },
 "nbformat": 4,
 "nbformat_minor": 2
}
