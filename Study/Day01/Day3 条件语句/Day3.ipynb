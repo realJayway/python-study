{
 "cells": [
  {
   "cell_type": "code",
   "execution_count": 2,
   "metadata": {},
   "outputs": [
    {
     "name": "stdout",
     "output_type": "stream",
     "text": [
      "请输入用户名: admin\n",
      "请输入口令: 123456\n",
      "身份验证成功!\n"
     ]
    }
   ],
   "source": [
    "\"\"\"\n",
    "用户身份验证\n",
    "\n",
    "Version: 0.1\n",
    "Author: 骆昊\n",
    "\"\"\"\n",
    "\n",
    "username = input('请输入用户名: ')\n",
    "password = input('请输入口令: ')\n",
    "# 如果希望输入口令时 终端中没有回显 可以使用getpass模块的getpass函数\n",
    "# import getpass\n",
    "# password = getpass.getpass('请输入口令: ')\n",
    "if username == 'admin' and password == '123456':\n",
    "    print('身份验证成功!')\n",
    "else:\n",
    "    print('身份验证失败!')"
   ]
  },
  {
   "cell_type": "code",
   "execution_count": 3,
   "metadata": {},
   "outputs": [
    {
     "name": "stdout",
     "output_type": "stream",
     "text": [
      "x = 511.33\n",
      "f(511.33) = 1528.99\n"
     ]
    }
   ],
   "source": [
    "\"\"\"\n",
    "分段函数求值\n",
    "\n",
    "        3x - 5  (x > 1)\n",
    "f(x) =  x + 2   (-1 <= x <= 1)\n",
    "        5x + 3  (x < -1)\n",
    "\n",
    "Version: 0.1\n",
    "Author: 骆昊\n",
    "\"\"\"\n",
    "\n",
    "x = float(input('x = '))\n",
    "if x > 1:\n",
    "    y = 3 * x - 5\n",
    "elif x >= -1:\n",
    "    y = x + 2\n",
    "else:\n",
    "    y = 5 * x + 3\n",
    "print('f(%.2f) = %.2f' % (x, y))#x,y各保留两位小数"
   ]
  },
  {
   "cell_type": "code",
   "execution_count": null,
   "metadata": {},
   "outputs": [],
   "source": [
    "\"\"\"\n",
    "分段函数求值\n",
    "\t\t3x - 5\t(x > 1)\n",
    "f(x) =\tx + 2\t(-1 <= x <= 1)\n",
    "\t\t5x + 3\t(x < -1)\n",
    "\n",
    "Version: 0.1\n",
    "Author: 骆昊\n",
    "\n",
    "第二段的改编\n",
    "\"\"\"\n",
    "\n",
    "x = float(input('x = '))\n",
    "if x > 1:\n",
    "    y = 3 * x - 5\n",
    "else:\n",
    "    if x >= -1:\n",
    "        y = x + 2\n",
    "    else:\n",
    "        y = 5 * x + 3\n",
    "print('f(%.2f) = %.2f' % (x, y))\n",
    "\n",
    "\"\"\"\n",
    "能扁平化就扁平化，最好不要嵌套。\n",
    "故第二段的写法优于第三段\n",
    "\"\"\""
   ]
  },
  {
   "cell_type": "code",
   "execution_count": null,
   "metadata": {},
   "outputs": [],
   "source": []
  }
 ],
 "metadata": {
  "kernelspec": {
   "display_name": "Python 3",
   "language": "python",
   "name": "python3"
  },
  "language_info": {
   "codemirror_mode": {
    "name": "ipython",
    "version": 3
   },
   "file_extension": ".py",
   "mimetype": "text/x-python",
   "name": "python",
   "nbconvert_exporter": "python",
   "pygments_lexer": "ipython3",
   "version": "3.7.3"
  }
 },
 "nbformat": 4,
 "nbformat_minor": 2
}
