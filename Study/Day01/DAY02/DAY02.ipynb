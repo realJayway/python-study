{
 "cells": [
  {
   "cell_type": "code",
   "execution_count": 1,
   "metadata": {},
   "outputs": [
    {
     "name": "stdout",
     "output_type": "stream",
     "text": [
      "444\n",
      "198\n",
      "39483\n",
      "2.6097560975609757\n",
      "2\n",
      "75\n",
      "199580904170858944588683464608694075062943107082809027605498347841561605181074274426665986623764972439807786764739130193391688887305693295698132008415537889753720415793877902074665765736230030622222862498385818118244547668141388643750880896837470534556730014314212951333550122949806119583030226121714710874561\n"
     ]
    }
   ],
   "source": [
    "\"\"\"\n",
    "使用变量保存数据并进行算术运算\n",
    "\n",
    "Version: 0.1\n",
    "Author: 骆昊\n",
    "\"\"\"\n",
    "\n",
    "a = 321\n",
    "b = 123\n",
    "print(a + b)\n",
    "print(a - b)\n",
    "print(a * b)\n",
    "print(a / b)#除法\n",
    "print(a // b)#整除\n",
    "print(a % b)#余数\n",
    "print(a ** b)#a^b"
   ]
  },
  {
   "cell_type": "code",
   "execution_count": 2,
   "metadata": {},
   "outputs": [
    {
     "name": "stdout",
     "output_type": "stream",
     "text": [
      "a = 5\n",
      "b = 10\n",
      "5 + 10 = 15\n",
      "5 - 10 = -5\n",
      "5 * 10 = 50\n",
      "5 / 10 = 0.500000\n",
      "5 // 10 = 0\n",
      "5 % 10 = 5\n",
      "5 ** 10 = 9765625\n"
     ]
    }
   ],
   "source": [
    "\"\"\"\n",
    "使用input函数输入\n",
    "使用int()进行类型转换\n",
    "用占位符格式化输出的字符串\n",
    "\n",
    "Version: 0.1\n",
    "Author: 骆昊\n",
    "\"\"\"\n",
    "\n",
    "a = int(input('a = '))\n",
    "b = int(input('b = '))\n",
    "print('%d + %d = %d' % (a, b, a + b))\n",
    "print('%d - %d = %d' % (a, b, a - b))\n",
    "print('%d * %d = %d' % (a, b, a * b))\n",
    "print('%d / %d = %f' % (a, b, a / b))\n",
    "print('%d // %d = %d' % (a, b, a // b))\n",
    "print('%d %% %d = %d' % (a, b, a % b))\n",
    "print('%d ** %d = %d' % (a, b, a ** b))"
   ]
  },
  {
   "cell_type": "code",
   "execution_count": 3,
   "metadata": {},
   "outputs": [
    {
     "name": "stdout",
     "output_type": "stream",
     "text": [
      "<class 'int'>\n",
      "<class 'float'>\n",
      "<class 'complex'>\n",
      "<class 'str'>\n",
      "<class 'bool'>\n"
     ]
    }
   ],
   "source": [
    "\"\"\"\n",
    "使用type()检查变量的类型\n",
    "\n",
    "Version: 0.1\n",
    "Author: 骆昊\n",
    "Date: 2018-02-27\n",
    "\"\"\"\n",
    "\n",
    "a = 100\n",
    "b = 12.345\n",
    "c = 1 + 5j\n",
    "d = 'hello, world'\n",
    "e = True\n",
    "print(type(a))\n",
    "print(type(b))\n",
    "print(type(c))\n",
    "print(type(d))\n",
    "print(type(e))"
   ]
  },
  {
   "cell_type": "code",
   "execution_count": 9,
   "metadata": {},
   "outputs": [
    {
     "name": "stdout",
     "output_type": "stream",
     "text": [
      "a =  9.6\n",
      "flag1 =  True\n",
      "flag2 =  False\n",
      "flag3 =  False\n",
      "flag4 =  True\n",
      "flag5 =  False\n",
      "True\n",
      "True\n",
      "False\n",
      "False\n"
     ]
    }
   ],
   "source": [
    "\"\"\"\n",
    "运算符的使用\n",
    "\n",
    "Version: 0.1\n",
    "Author: 骆昊\n",
    "\"\"\"\n",
    "\n",
    "a = 5\n",
    "b = 10\n",
    "c = 3\n",
    "d = 4\n",
    "e = 5\n",
    "a += b #a=a+b\n",
    "a -= c #a=a-c\n",
    "a *= d #a=a*d\n",
    "a /= e #a=a/e\n",
    "print(\"a = \", a)\n",
    "\n",
    "flag1 = 3 > 2 #True\n",
    "flag2 = 2 < 1 #False\n",
    "flag3 = flag1 and flag2\n",
    "flag4 = flag1 or flag2\n",
    "flag5 = not flag1\n",
    "print(\"flag1 = \", flag1)\n",
    "print(\"flag2 = \", flag2)\n",
    "print(\"flag3 = \", flag3)\n",
    "print(\"flag4 = \", flag4)\n",
    "print(\"flag5 = \", flag5)\n",
    "print(flag1 is True)\n",
    "print(flag1)\n",
    "print(flag2 is not False)\n",
    "print(flag2)"
   ]
  },
  {
   "cell_type": "code",
   "execution_count": null,
   "metadata": {},
   "outputs": [],
   "source": []
  }
 ],
 "metadata": {
  "kernelspec": {
   "display_name": "Python 3",
   "language": "python",
   "name": "python3"
  },
  "language_info": {
   "codemirror_mode": {
    "name": "ipython",
    "version": 3
   },
   "file_extension": ".py",
   "mimetype": "text/x-python",
   "name": "python",
   "nbconvert_exporter": "python",
   "pygments_lexer": "ipython3",
   "version": "3.7.3"
  }
 },
 "nbformat": 4,
 "nbformat_minor": 2
}
