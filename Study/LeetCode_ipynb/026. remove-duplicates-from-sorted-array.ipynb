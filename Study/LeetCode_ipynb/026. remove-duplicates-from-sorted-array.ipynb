{
 "cells": [
  {
   "cell_type": "markdown",
   "metadata": {},
   "source": [
    "注意到已经是一个排序数组，所以只需要和后一位比较即可。"
   ]
  },
  {
   "cell_type": "code",
   "execution_count": 9,
   "metadata": {},
   "outputs": [],
   "source": [
    "class Solution:\n",
    "    def removeDuplicates(self, nums) -> int:\n",
    "        \"\"\"\n",
    "        type: List[int]\n",
    "        rtype: int\n",
    "\n",
    "        \"\"\"\n",
    "        i = 0\n",
    "        while i < (len(nums)-1):\n",
    "            if nums[i] == nums[i+1]:\n",
    "                nums.remove(nums[i])\n",
    "            else:\n",
    "                i += 1\n",
    "        return len(nums)\n",
    "            "
   ]
  },
  {
   "cell_type": "code",
   "execution_count": 10,
   "metadata": {},
   "outputs": [
    {
     "data": {
      "text/plain": [
       "6"
      ]
     },
     "execution_count": 10,
     "metadata": {},
     "output_type": "execute_result"
    }
   ],
   "source": [
    "s = Solution()\n",
    "a = [0,1,2,3,3,3,3,6,7]\n",
    "s.removeDuplicates(a)"
   ]
  },
  {
   "cell_type": "markdown",
   "metadata": {},
   "source": [
    "Note: LeetCode显示Python需要花646ms，如何降低时间"
   ]
  },
  {
   "cell_type": "markdown",
   "metadata": {},
   "source": [
    "输出该新数组？  \n",
    "如果不是有序数组？"
   ]
  },
  {
   "cell_type": "code",
   "execution_count": null,
   "metadata": {},
   "outputs": [],
   "source": []
  }
 ],
 "metadata": {
  "kernelspec": {
   "display_name": "Python 3",
   "language": "python",
   "name": "python3"
  },
  "language_info": {
   "codemirror_mode": {
    "name": "ipython",
    "version": 3
   },
   "file_extension": ".py",
   "mimetype": "text/x-python",
   "name": "python",
   "nbconvert_exporter": "python",
   "pygments_lexer": "ipython3",
   "version": "3.7.3"
  }
 },
 "nbformat": 4,
 "nbformat_minor": 2
}
