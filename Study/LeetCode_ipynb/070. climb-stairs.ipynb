{
 "cells": [
  {
   "cell_type": "markdown",
   "metadata": {},
   "source": [
    "2个1可以换成1个2，则考虑n//2 为最多的2的个数。"
   ]
  },
  {
   "cell_type": "code",
   "execution_count": 10,
   "metadata": {},
   "outputs": [],
   "source": [
    "class Solution:\n",
    "    def climbStairs(self, n):\n",
    "        \"\"\"\n",
    "        type n: int\n",
    "        rtype n: int\n",
    "        \"\"\"\n",
    "        m = n//2\n",
    "        ans = 0\n",
    "        a,b,c,d,e = 1,1,1,1,0\n",
    "        for i in range(1,m//2+1):\n",
    "            s = i + (n-i*2)\n",
    "            for j in range(s-i,s+1):\n",
    "                a *= j\n",
    "            for k in range(1,i+1):\n",
    "                b *= k\n",
    "            ans += a/b\n",
    "        ans *=2\n",
    "        if m//2 !=0:\n",
    "            e = m//2 +1\n",
    "            for j in range(s-e,s+1):\n",
    "                c *= j\n",
    "            for k in range(1,e+1):\n",
    "                d *= k\n",
    "            ans += c/d\n",
    "        return ans"
   ]
  },
  {
   "cell_type": "code",
   "execution_count": 12,
   "metadata": {},
   "outputs": [
    {
     "data": {
      "text/plain": [
       "0"
      ]
     },
     "execution_count": 12,
     "metadata": {},
     "output_type": "execute_result"
    }
   ],
   "source": [
    "s = Solution()\n",
    "n = 3\n",
    "s.climbStairs(n)"
   ]
  },
  {
   "cell_type": "code",
   "execution_count": 13,
   "metadata": {},
   "outputs": [],
   "source": [
    "import math\n",
    "\n",
    "class Solution:\n",
    "    def climbStairs1(self, n):\n",
    "        m = n//2\n",
    "        ans = 0\n",
    "        a = 0\n",
    "        for i in range(1,m//2+1):\n",
    "            s = i + (n-i*2)\n",
    "            ans += math.facterial(s)/(math.facterial(i)*math.factroial(s-i))\n",
    "        ans *= 2\n",
    "        if m//2 !=0:\n",
    "            a = m//2 +1\n",
    "            b = n - a\n",
    "            ans += math.factorial(b)/(math.facterial(a)*math.factroial(b-a))\n",
    "        return ans"
   ]
  },
  {
   "cell_type": "code",
   "execution_count": 14,
   "metadata": {},
   "outputs": [
    {
     "data": {
      "text/plain": [
       "0"
      ]
     },
     "execution_count": 14,
     "metadata": {},
     "output_type": "execute_result"
    }
   ],
   "source": [
    "s = Solution()\n",
    "n = 3\n",
    "s.climbStairs1(n)"
   ]
  },
  {
   "cell_type": "markdown",
   "metadata": {},
   "source": [
    "算不出来，先放一放。"
   ]
  },
  {
   "cell_type": "code",
   "execution_count": null,
   "metadata": {},
   "outputs": [],
   "source": []
  }
 ],
 "metadata": {
  "kernelspec": {
   "display_name": "Python 3",
   "language": "python",
   "name": "python3"
  },
  "language_info": {
   "codemirror_mode": {
    "name": "ipython",
    "version": 3
   },
   "file_extension": ".py",
   "mimetype": "text/x-python",
   "name": "python",
   "nbconvert_exporter": "python",
   "pygments_lexer": "ipython3",
   "version": "3.7.3"
  }
 },
 "nbformat": 4,
 "nbformat_minor": 2
}
