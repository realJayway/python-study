{
 "cells": [
  {
   "cell_type": "markdown",
   "metadata": {},
   "source": [
    "直接遍历法试一下："
   ]
  },
  {
   "cell_type": "code",
   "execution_count": 64,
   "metadata": {},
   "outputs": [],
   "source": [
    "class Solution:\n",
    "    def maxSubArray(self, nums):\n",
    "        \"\"\"\n",
    "        type: List[int]\n",
    "        rtype: int\n",
    "        \"\"\"\n",
    "        ans = nums[0]  # Note: 循环是从0开始，所以如果是len=1不会进入循环\n",
    "        anslist = nums\n",
    "        for i in range(len(nums)-1):\n",
    "            for j in range(len(nums)-i):\n",
    "                s = 0\n",
    "                s = sum(nums[j : j+i])\n",
    "                if s > ans:\n",
    "                    ans = s\n",
    "                    anslist = nums[j : j+i]\n",
    "        return ans, anslist"
   ]
  },
  {
   "cell_type": "code",
   "execution_count": 65,
   "metadata": {},
   "outputs": [
    {
     "data": {
      "text/plain": [
       "(13, [1, 5, -2, 4, 5])"
      ]
     },
     "execution_count": 65,
     "metadata": {},
     "output_type": "execute_result"
    }
   ],
   "source": [
    "s = Solution()\n",
    "a = [-3,-2,1,5,-2,4,5,-2,2]\n",
    "s.maxSubArray(a)"
   ]
  },
  {
   "cell_type": "code",
   "execution_count": 66,
   "metadata": {},
   "outputs": [
    {
     "data": {
      "text/plain": [
       "(1, [1])"
      ]
     },
     "execution_count": 66,
     "metadata": {},
     "output_type": "execute_result"
    }
   ],
   "source": [
    "b = [1]\n",
    "s.maxSubArray(b)"
   ]
  },
  {
   "cell_type": "code",
   "execution_count": 67,
   "metadata": {},
   "outputs": [
    {
     "data": {
      "text/plain": [
       "(0, [])"
      ]
     },
     "execution_count": 67,
     "metadata": {},
     "output_type": "execute_result"
    }
   ],
   "source": [
    "c = [-2,1]\n",
    "s.maxSubArray(c)"
   ]
  },
  {
   "cell_type": "markdown",
   "metadata": {},
   "source": [
    "定变量千万不要把变量名称和公式搞混，误把中间sum定为了return的值，debug了10分钟。"
   ]
  },
  {
   "cell_type": "markdown",
   "metadata": {},
   "source": [
    "弄了半小时还是没搞定，输不出c的正确答案。"
   ]
  },
  {
   "cell_type": "code",
   "execution_count": 107,
   "metadata": {},
   "outputs": [],
   "source": [
    "class Solution:\n",
    "    def maxSubArray1(self, nums):\n",
    "        \"\"\"\n",
    "        type: List[int]\n",
    "        rtype: int\n",
    "        \"\"\"\n",
    "        ans = nums[0]  # 循环是从0开始，所以如果是len=1不会进入循环\n",
    "        s = 0\n",
    "        anslist = [nums[0]]\n",
    "        for i in range(1,len(nums)+1): # 这里必须从1开始，否则下面的j循环中会出现nums[j:j]，在左闭右开区间下毫无意义。\n",
    "            for j in range(len(nums)-i+1): # 因为i属于[1,n),所以要让range(n)则需要(n-i+1)\n",
    "                s = sum(nums[j : j+i])\n",
    "                if s > ans:\n",
    "                    ans = s\n",
    "                    anslist = nums[j : j+i]\n",
    "        return ans, anslist"
   ]
  },
  {
   "cell_type": "code",
   "execution_count": 108,
   "metadata": {},
   "outputs": [
    {
     "data": {
      "text/plain": [
       "(13, [1, 5, -2, 4, 5])"
      ]
     },
     "execution_count": 108,
     "metadata": {},
     "output_type": "execute_result"
    }
   ],
   "source": [
    "s = Solution()\n",
    "a = [-3,-2,1,5,-2,4,5,-2,2]\n",
    "s.maxSubArray1(a)"
   ]
  },
  {
   "cell_type": "code",
   "execution_count": 109,
   "metadata": {},
   "outputs": [
    {
     "data": {
      "text/plain": [
       "(1, [1])"
      ]
     },
     "execution_count": 109,
     "metadata": {},
     "output_type": "execute_result"
    }
   ],
   "source": [
    "b = [1]\n",
    "s.maxSubArray1(b)"
   ]
  },
  {
   "cell_type": "code",
   "execution_count": 110,
   "metadata": {},
   "outputs": [
    {
     "data": {
      "text/plain": [
       "(1, [1])"
      ]
     },
     "execution_count": 110,
     "metadata": {},
     "output_type": "execute_result"
    }
   ],
   "source": [
    "c = [-2,1]\n",
    "s.maxSubArray1(c)"
   ]
  },
  {
   "cell_type": "code",
   "execution_count": 111,
   "metadata": {},
   "outputs": [
    {
     "data": {
      "text/plain": [
       "(3, [1, 2])"
      ]
     },
     "execution_count": 111,
     "metadata": {},
     "output_type": "execute_result"
    }
   ],
   "source": [
    "d = [1,2]\n",
    "s.maxSubArray1(d)"
   ]
  },
  {
   "cell_type": "code",
   "execution_count": 90,
   "metadata": {},
   "outputs": [
    {
     "name": "stdout",
     "output_type": "stream",
     "text": [
      "1\n",
      "0\n"
     ]
    }
   ],
   "source": [
    "for i in range(1,2):\n",
    "    print(i)\n",
    "    for j in range(2-i):\n",
    "        print(j)"
   ]
  },
  {
   "cell_type": "markdown",
   "metadata": {},
   "source": [
    "超时，因为复杂度为 $O(n^2)$"
   ]
  },
  {
   "cell_type": "markdown",
   "metadata": {},
   "source": [
    "Copy了评论下面的算法："
   ]
  },
  {
   "cell_type": "code",
   "execution_count": 112,
   "metadata": {},
   "outputs": [],
   "source": [
    "class Solution(object):\n",
    "    def maxSubArray3(self, nums):\n",
    "        s = 0\n",
    "        max_sub_sum = nums[0]\n",
    "        for num in nums:\n",
    "            s += num\n",
    "            if s > max_sub_sum:\n",
    "                max_sub_sum = s\n",
    "            if s < 0:\n",
    "                s = 0\n",
    "        return max_sub_sum"
   ]
  },
  {
   "cell_type": "code",
   "execution_count": 113,
   "metadata": {},
   "outputs": [
    {
     "data": {
      "text/plain": [
       "13"
      ]
     },
     "execution_count": 113,
     "metadata": {},
     "output_type": "execute_result"
    }
   ],
   "source": [
    "s = Solution()\n",
    "a = [-3,-2,1,5,-2,4,5,-2,2]\n",
    "s.maxSubArray3(a)"
   ]
  },
  {
   "cell_type": "code",
   "execution_count": 114,
   "metadata": {},
   "outputs": [
    {
     "data": {
      "text/plain": [
       "1"
      ]
     },
     "execution_count": 114,
     "metadata": {},
     "output_type": "execute_result"
    }
   ],
   "source": [
    "b = [1]\n",
    "s.maxSubArray3(b)"
   ]
  },
  {
   "cell_type": "code",
   "execution_count": 115,
   "metadata": {},
   "outputs": [
    {
     "data": {
      "text/plain": [
       "1"
      ]
     },
     "execution_count": 115,
     "metadata": {},
     "output_type": "execute_result"
    }
   ],
   "source": [
    "c = [-2,1]\n",
    "s.maxSubArray3(c)"
   ]
  },
  {
   "cell_type": "code",
   "execution_count": 116,
   "metadata": {},
   "outputs": [
    {
     "data": {
      "text/plain": [
       "3"
      ]
     },
     "execution_count": 116,
     "metadata": {},
     "output_type": "execute_result"
    }
   ],
   "source": [
    "d = [1,2]\n",
    "s.maxSubArray3(d)"
   ]
  },
  {
   "cell_type": "markdown",
   "metadata": {},
   "source": [
    "执行用时 :68 ms, 在所有 python3 提交中击败了99.35%的用户  \n",
    "内存消耗 :13.4 MB, 在所有 python3 提交中击败了94.52%的用户  \n",
    "NB！"
   ]
  },
  {
   "cell_type": "code",
   "execution_count": null,
   "metadata": {},
   "outputs": [],
   "source": []
  }
 ],
 "metadata": {
  "kernelspec": {
   "display_name": "Python 3",
   "language": "python",
   "name": "python3"
  },
  "language_info": {
   "codemirror_mode": {
    "name": "ipython",
    "version": 3
   },
   "file_extension": ".py",
   "mimetype": "text/x-python",
   "name": "python",
   "nbconvert_exporter": "python",
   "pygments_lexer": "ipython3",
   "version": "3.7.3"
  }
 },
 "nbformat": 4,
 "nbformat_minor": 2
}
