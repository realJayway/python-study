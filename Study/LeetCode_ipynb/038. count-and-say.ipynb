{
 "cells": [
  {
   "cell_type": "markdown",
   "metadata": {},
   "source": [
    "题目看了半天才明白：\n",
    "第一项为1  \n",
    "第二项为“第一项有‘1个1’”，写作：11  \n",
    "第三项为“第二项有‘2个1’”，写作：21\n",
    "以此类推"
   ]
  },
  {
   "cell_type": "markdown",
   "metadata": {},
   "source": [
    "第一次遇见递归题，copy了代码"
   ]
  },
  {
   "cell_type": "code",
   "execution_count": 1,
   "metadata": {},
   "outputs": [],
   "source": [
    "class Solution:\n",
    "    def countAndSay(self, n):\n",
    "        \"\"\"\n",
    "        type: int\n",
    "        rtype: str\n",
    "        \"\"\"\n",
    "        if n == 1:\n",
    "            return '1' # 返回的是字符串 str\n",
    "        \n",
    "        s = self.countAndSay(n-1) + '*' # 递归思想，后面补‘*’是防止溢出\n",
    "        res, count = '', 1     # 初始化res,count,其中res是字符串所以用‘ ’初始化\n",
    "        for i in range(len(s)-1):\n",
    "            if s[i] == s[i+1]:\n",
    "                count += 1  # 相等就计数\n",
    "            else:\n",
    "                res += str(count) + str(s[i]) # 一次是输出计数和读取字符，即两个成对输出，保证最后为偶数\n",
    "                count = 1   # 不相等就输出字符\n",
    "        return res"
   ]
  },
  {
   "cell_type": "code",
   "execution_count": 2,
   "metadata": {
    "scrolled": true
   },
   "outputs": [
    {
     "data": {
      "text/plain": [
       "'11131221131211132221232112111312111213111213211231132132211211131221131211221321123113213221123113112221131112311332211211131221131211132211121312211231131112311211232221121321132132211331121321231231121113112221121321133112132112312321123113112221121113122113121113123112112322111213211322211312113211'"
      ]
     },
     "execution_count": 2,
     "metadata": {},
     "output_type": "execute_result"
    }
   ],
   "source": [
    "s = Solution()\n",
    "n = 20\n",
    "s.countAndSay(n)"
   ]
  },
  {
   "cell_type": "markdown",
   "metadata": {},
   "source": []
  }
 ],
 "metadata": {
  "kernelspec": {
   "display_name": "Python 3",
   "language": "python",
   "name": "python3"
  },
  "language_info": {
   "codemirror_mode": {
    "name": "ipython",
    "version": 3
   },
   "file_extension": ".py",
   "mimetype": "text/x-python",
   "name": "python",
   "nbconvert_exporter": "python",
   "pygments_lexer": "ipython3",
   "version": "3.7.3"
  }
 },
 "nbformat": 4,
 "nbformat_minor": 2
}
