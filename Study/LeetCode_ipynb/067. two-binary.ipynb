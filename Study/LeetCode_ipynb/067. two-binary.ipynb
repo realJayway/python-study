{
 "cells": [
  {
   "cell_type": "markdown",
   "metadata": {},
   "source": [
    "考虑直接递推"
   ]
  },
  {
   "cell_type": "markdown",
   "metadata": {},
   "source": [
    "str的表示方法是加 '' ，而不是\"\"  \n",
    "否则会一直报错"
   ]
  },
  {
   "cell_type": "code",
   "execution_count": 65,
   "metadata": {},
   "outputs": [],
   "source": [
    "class Solution:\n",
    "    def addBinary(self,a ,b ):\n",
    "        \"\"\"\n",
    "        type a: str\n",
    "        type b: str\n",
    "        rtype: str\n",
    "        \"\"\"\n",
    "        if a ==''  or b == '':\n",
    "            return a + b\n",
    "        if a[-1] == 1 and b[-1] == 1:\n",
    "            return self.addBinary(a[:-1], self.addBinary(b[:-1],'1')) + '0'\n",
    "        elif a[-1] == 0 and b[-1] == 0:\n",
    "            return self.addBinary(a[:-1], b[:-1]) + '0'\n",
    "        else:\n",
    "            return self.addBinary(a[:-1], b[:-1]) + '1'   "
   ]
  },
  {
   "cell_type": "code",
   "execution_count": 66,
   "metadata": {},
   "outputs": [
    {
     "data": {
      "text/plain": [
       "'10111'"
      ]
     },
     "execution_count": 66,
     "metadata": {},
     "output_type": "execute_result"
    }
   ],
   "source": [
    "s = Solution()\n",
    "a = '101'\n",
    "b = '10101'\n",
    "s.addBinary(a,b)"
   ]
  },
  {
   "cell_type": "code",
   "execution_count": 67,
   "metadata": {},
   "outputs": [
    {
     "data": {
      "text/plain": [
       "'1'"
      ]
     },
     "execution_count": 67,
     "metadata": {},
     "output_type": "execute_result"
    }
   ],
   "source": [
    "s.addBinary('1','1')"
   ]
  },
  {
   "cell_type": "markdown",
   "metadata": {},
   "source": [
    "应该是 a[-1] == '1'而非a[-1] == 1，字符串中没有数字大小的概念，当然一直在执行else"
   ]
  },
  {
   "cell_type": "code",
   "execution_count": 68,
   "metadata": {},
   "outputs": [],
   "source": [
    "class Solution:\n",
    "    def addBinary1(self,a ,b ):\n",
    "        \"\"\"\n",
    "        type a: str\n",
    "        type b: str\n",
    "        rtype: str\n",
    "        \"\"\"\n",
    "        if a ==''  or b == '':\n",
    "            return a + b\n",
    "        if a[-1] == '1' and b[-1] == '1':\n",
    "            return self.addBinary1(a[:-1], self.addBinary1(b[:-1],'1')) + '0'\n",
    "        elif a[-1] == '0' and b[-1] == '0':\n",
    "            return self.addBinary1(a[:-1], b[:-1]) + '0'\n",
    "        else:\n",
    "            return self.addBinary1(a[:-1], b[:-1]) + '1'   "
   ]
  },
  {
   "cell_type": "code",
   "execution_count": 69,
   "metadata": {},
   "outputs": [
    {
     "data": {
      "text/plain": [
       "'11010'"
      ]
     },
     "execution_count": 69,
     "metadata": {},
     "output_type": "execute_result"
    }
   ],
   "source": [
    "s = Solution()\n",
    "c = '101'\n",
    "d = '10101'\n",
    "s.addBinary1(c,d)"
   ]
  },
  {
   "cell_type": "code",
   "execution_count": 71,
   "metadata": {},
   "outputs": [
    {
     "data": {
      "text/plain": [
       "'100000000000000001111110'"
      ]
     },
     "execution_count": 71,
     "metadata": {},
     "output_type": "execute_result"
    }
   ],
   "source": [
    "e = '1111111'\n",
    "f = '11111111111111111111111'\n",
    "s.addBinary1(e,f)"
   ]
  },
  {
   "cell_type": "markdown",
   "metadata": {},
   "source": [
    "Note: Missing 1 required positional argument 是表示 我们的s = Solution必须要加括号为 s = Solution(),才是实体化。"
   ]
  },
  {
   "cell_type": "markdown",
   "metadata": {},
   "source": [
    "执行用时 :52 ms\n",
    ", 在所有 python3 提交中击败了34.89%的用户\n",
    "内存消耗 :14 MB, 在所有 python3 提交中击败了5.24%的用户"
   ]
  },
  {
   "cell_type": "markdown",
   "metadata": {},
   "source": [
    "速度慢，考虑其他方法？  \n",
    "copy大神方法："
   ]
  },
  {
   "cell_type": "code",
   "execution_count": 75,
   "metadata": {},
   "outputs": [
    {
     "data": {
      "text/plain": [
       "'\\n作者：QQqun902025048\\n链接：https://leetcode-cn.com/problems/add-binary/solution/python-1xing-nei-zhi-han-shu-fei-nei-zhi-jie-fa-by/\\n来源：力扣（LeetCode）\\n著作权归作者所有。商业转载请联系作者获得授权，非商业转载请注明出处。\\n'"
      ]
     },
     "execution_count": 75,
     "metadata": {},
     "output_type": "execute_result"
    }
   ],
   "source": [
    "class Solution:\n",
    "    def addBinary(self, a: str, b: str) -> str:\n",
    "        r, p = '', 0\n",
    "        d = len(b) - len(a)\n",
    "        a = '0' * d + a\n",
    "        b = '0' * -d + b   # 字符串 * 负数 = ‘’\n",
    "        for i, j in zip(a[::-1], b[::-1]):  # zip() 函数用于将可迭代的对象作为参数，将对象中对应的元素打包成一个个元组，然后返回由这些元组组成的列表。\n",
    "            s = int(i) + int(j) + p\n",
    "            r = str(s % 2) + r\n",
    "            p = s // 2\n",
    "        return '1' + r if p else r # p == 1 返回 '1'+r， 否则返回 r\n",
    "\n",
    "\"\"\"\n",
    "作者：QQqun902025048\n",
    "链接：https://leetcode-cn.com/problems/add-binary/solution/python-1xing-nei-zhi-han-shu-fei-nei-zhi-jie-fa-by/\n",
    "来源：力扣（LeetCode）\n",
    "著作权归作者所有。商业转载请联系作者获得授权，非商业转载请注明出处。\n",
    "\"\"\"\n"
   ]
  },
  {
   "cell_type": "markdown",
   "metadata": {},
   "source": [
    "zip()是Python的一个内建函数，它接受一系列可迭代的对象作为参数，将对象中对应的元素打包成一个个tuple（元组），然后返回由这些tuples组成的list（列表）。若传入参数的长度不等，则返回list的长度和参数中长度最短的对象相同。也就是说，该函数返回一个以元组为元素的列表，其中第 i 个元组包含每个参数序列的第 i 个元素。返回的列表长度被截断为最短的参数序列的长度。只有一个序列参数时，它返回一个1元组的列表。没有参数时，它返回一个空的列表。利用*号操作符，可以将list unzip（解压）."
   ]
  },
  {
   "cell_type": "code",
   "execution_count": 80,
   "metadata": {},
   "outputs": [
    {
     "data": {
      "text/plain": [
       "<zip at 0x1cc21e31c88>"
      ]
     },
     "execution_count": 80,
     "metadata": {},
     "output_type": "execute_result"
    }
   ],
   "source": [
    "a = [1,2,3]\n",
    "b = [4,5,6]\n",
    "zip(a,b)\n"
   ]
  },
  {
   "cell_type": "markdown",
   "metadata": {},
   "source": [
    "在python2上直接显示结果，但在python3上显示如上，是一个对象。"
   ]
  },
  {
   "cell_type": "code",
   "execution_count": 81,
   "metadata": {},
   "outputs": [
    {
     "data": {
      "text/plain": [
       "[(1, 4), (2, 5), (3, 6)]"
      ]
     },
     "execution_count": 81,
     "metadata": {},
     "output_type": "execute_result"
    }
   ],
   "source": [
    "list(zip(a,b))"
   ]
  },
  {
   "cell_type": "code",
   "execution_count": 84,
   "metadata": {},
   "outputs": [
    {
     "data": {
      "text/plain": [
       "<zip at 0x1cc21e4f648>"
      ]
     },
     "execution_count": 84,
     "metadata": {},
     "output_type": "execute_result"
    }
   ],
   "source": [
    "a = '123'\n",
    "b = '456'\n",
    "zip(a,b)"
   ]
  },
  {
   "cell_type": "code",
   "execution_count": 85,
   "metadata": {},
   "outputs": [
    {
     "data": {
      "text/plain": [
       "<zip at 0x1cc21e4f048>"
      ]
     },
     "execution_count": 85,
     "metadata": {},
     "output_type": "execute_result"
    }
   ],
   "source": [
    "zip(a[::-1],b[::-1])"
   ]
  },
  {
   "cell_type": "code",
   "execution_count": 88,
   "metadata": {},
   "outputs": [
    {
     "data": {
      "text/plain": [
       "[('3', '6'), ('2', '5'), ('1', '4')]"
      ]
     },
     "execution_count": 88,
     "metadata": {},
     "output_type": "execute_result"
    }
   ],
   "source": [
    "list(zip(a[::-1],b[::-1]))"
   ]
  },
  {
   "cell_type": "code",
   "execution_count": 92,
   "metadata": {
    "scrolled": true
   },
   "outputs": [
    {
     "data": {
      "text/plain": [
       "[<zip at 0x1cc21e60a08>]"
      ]
     },
     "execution_count": 92,
     "metadata": {},
     "output_type": "execute_result"
    }
   ],
   "source": [
    "[zip(a[::-1],b[::-1])] "
   ]
  },
  {
   "cell_type": "code",
   "execution_count": 99,
   "metadata": {},
   "outputs": [
    {
     "data": {
      "text/plain": [
       "(('3', '6'), ('2', '5'), ('1', '4'))"
      ]
     },
     "execution_count": 99,
     "metadata": {},
     "output_type": "execute_result"
    }
   ],
   "source": [
    "tuple(zip(a[::-1],b[::-1]))"
   ]
  },
  {
   "cell_type": "code",
   "execution_count": 94,
   "metadata": {},
   "outputs": [
    {
     "name": "stdout",
     "output_type": "stream",
     "text": [
      "('3', '6')\n",
      "3\n",
      "6\n",
      "('2', '5')\n",
      "2\n",
      "5\n",
      "('1', '4')\n",
      "1\n",
      "4\n"
     ]
    }
   ],
   "source": [
    "for i,j in list(zip(a[::-1],b[::-1])): # i,j 同时跑\n",
    "    print((i,j))\n",
    "    print(i)\n",
    "    print(j)"
   ]
  },
  {
   "cell_type": "code",
   "execution_count": 98,
   "metadata": {},
   "outputs": [
    {
     "name": "stdout",
     "output_type": "stream",
     "text": [
      "36\n",
      "9\n",
      "25\n",
      "7\n",
      "14\n",
      "5\n"
     ]
    }
   ],
   "source": [
    "for i,j in list(zip(a[::-1],b[::-1])):\n",
    "    print(i + j)\n",
    "    print(int(i)+int(j))"
   ]
  },
  {
   "cell_type": "code",
   "execution_count": null,
   "metadata": {},
   "outputs": [],
   "source": []
  }
 ],
 "metadata": {
  "kernelspec": {
   "display_name": "Python 3",
   "language": "python",
   "name": "python3"
  },
  "language_info": {
   "codemirror_mode": {
    "name": "ipython",
    "version": 3
   },
   "file_extension": ".py",
   "mimetype": "text/x-python",
   "name": "python",
   "nbconvert_exporter": "python",
   "pygments_lexer": "ipython3",
   "version": "3.7.3"
  }
 },
 "nbformat": 4,
 "nbformat_minor": 2
}
