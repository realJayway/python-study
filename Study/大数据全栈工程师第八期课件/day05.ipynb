{
 "cells": [
  {
   "cell_type": "code",
   "execution_count": 9,
   "metadata": {},
   "outputs": [],
   "source": [
    "# 函数\n",
    "i = 1\n",
    "def show():\n",
    "    i = 1\n",
    "#     i = i + 1\n",
    "#     a = i + 1\n",
    "show()\n"
   ]
  },
  {
   "cell_type": "code",
   "execution_count": 13,
   "metadata": {
    "code_folding": [
     16
    ]
   },
   "outputs": [
    {
     "name": "stdout",
     "output_type": "stream",
     "text": [
      "13289370566\n",
      "17755974275\n",
      "15801782101\n",
      "15194082799\n",
      "14791626771\n",
      "17756572720\n",
      "18245561436\n",
      "15865073120\n",
      "17670091811\n",
      "13541996220\n"
     ]
    }
   ],
   "source": [
    "# 随机创建一个电话号\n",
    "'''\n",
    "电信号段:133/153/180/181/189/177；\n",
    "联通号段:130/131/132/155/156/185/186/145/176；\n",
    "移动号段：134/135/136/137/138/139/150/151/152/157/158/159/182/183/184/187/188/147/178\n",
    "\n",
    "\n",
    "前三位+随机八位数字（0-9）\n",
    "第一位 ： 1\n",
    "第二位：3,4,5,7,8\n",
    "第三位：是由第二位决定 145 147\n",
    "154\n",
    "[012356789]\n",
    "'''\n",
    "import random\n",
    "\n",
    "def create_phone():\n",
    "    # 第二位产生\n",
    "    second = [3,4,5,7,8][random.randint(0,4)]# 4 [5,7]\n",
    "    {'name':'zs'}['name']\n",
    "    \n",
    "    # 第三位\n",
    "    third = {\n",
    "        3:random.randint(0,9),\n",
    "        4:[5,7][random.randint(0,1)],\n",
    "        5:[i for i in range(10) if i!=4][random.randint(0,8)],\n",
    "        7:[6,7,8][random.randint(0,2)],\n",
    "        8:random.randint(0,9)\n",
    "    }[second]\n",
    "    \n",
    "    # 后八位0-9\n",
    "    suffix = '' \n",
    "    for x in range(8):\n",
    "        suffix = suffix + str(random.randint(0,9))\n",
    "    \n",
    "    \n",
    "    return \"1{}{}{}\".format(second,third,suffix)\n",
    "def eat():\n",
    "    \n",
    "for index in range(0,10):\n",
    "    phone = create_phone()\n",
    "    print(phone)\n"
   ]
  },
  {
   "cell_type": "code",
   "execution_count": 11,
   "metadata": {},
   "outputs": [
    {
     "name": "stdout",
     "output_type": "stream",
     "text": [
      "['akkb', 'bkkb']\n"
     ]
    }
   ],
   "source": [
    "# 列表生成式:快速的生成一个我想要的列表\n",
    "# my_list = []\n",
    "# for i in range(1,6):\n",
    "#     my_list.append(i)\n",
    "\n",
    "# my_list = [value for value in range(1,6)]\n",
    "# print(my_list)\n",
    "\n",
    "# ['a','b']\n",
    "# ['akkb','bkkb']\n",
    "my_list = [value+'kkb' for value in ['a','b']]\n",
    "print(my_list)\n",
    "\n",
    "\n"
   ]
  },
  {
   "cell_type": "code",
   "execution_count": null,
   "metadata": {},
   "outputs": [],
   "source": [
    "[i for i in range(10) if i!=4]\n",
    "\n",
    "for i in range(10):\n",
    "    if i!= 4:\n",
    "        padf"
   ]
  },
  {
   "cell_type": "code",
   "execution_count": null,
   "metadata": {},
   "outputs": [],
   "source": [
    "name = 'zs'\n"
   ]
  },
  {
   "cell_type": "code",
   "execution_count": 17,
   "metadata": {
    "code_folding": []
   },
   "outputs": [
    {
     "name": "stdout",
     "output_type": "stream",
     "text": [
      "泡脚\n"
     ]
    }
   ],
   "source": [
    "# 定义一个类，然后根据类去创建对象\n",
    "# class 类名(object):\n",
    "#     pass\n",
    "\n",
    "\n",
    "class Teacher(object):\n",
    "    # 方法(可以设定很多个，具体需要根据你的需求)\n",
    "    def shopping(self):\n",
    "        # self 谁调用了这个方法，self就是谁\n",
    "        print('泡脚')\n",
    "    def eat(self):\n",
    "        print('eat')\n",
    "    def run(self):\n",
    "        pass\n",
    "        \n",
    "\n",
    "# 根据类创建对象（一个类可以创建多个对象）\n",
    "teacher = Teacher()\n",
    "teacher1 = Teacher()\n",
    "\n",
    "#对象调用方法\n",
    "teacher.shopping()\n",
    "teacher1.shopping()\n"
   ]
  },
  {
   "cell_type": "code",
   "execution_count": 22,
   "metadata": {
    "code_folding": []
   },
   "outputs": [
    {
     "name": "stdout",
     "output_type": "stream",
     "text": [
      "tomeat\n",
      "jimeat\n"
     ]
    }
   ],
   "source": [
    "# 定义一个动物类\n",
    "class Dog(object):\n",
    "    \n",
    "    def eat(self):\n",
    "        print('{}eat'.format(self.name))\n",
    "\n",
    "dog1 = Dog()\n",
    "# 对象的方法\n",
    "# dog1.eat()\n",
    "\n",
    "# 对象添加属性\n",
    "dog1.name='tom'\n",
    "dog1.age = 18\n",
    "# 获取属性\n",
    "# print(dog1.name,dog1.age)\n",
    "\n",
    "# 创建对象\n",
    "dog2 = Dog()\n",
    "dog2.name='jim'\n",
    "dog2.age = 19\n",
    "\n",
    "# 对象调用的方法\n",
    "dog1.eat() # tom eat\n",
    "dog2.eat() # jim eat\n"
   ]
  },
  {
   "cell_type": "code",
   "execution_count": 32,
   "metadata": {
    "code_folding": []
   },
   "outputs": [
    {
     "name": "stdout",
     "output_type": "stream",
     "text": [
      "panda 18\n",
      "kkb 19\n"
     ]
    }
   ],
   "source": [
    "# 定义类的时候设定属性\n",
    "class Teacher(object):\n",
    "    \n",
    "    # 初始化方法（python内部提供的方法，不可以修改名字）\n",
    "    def __init__(self,name,age):\n",
    "#         默认属性\n",
    "        self.name = name\n",
    "        self.age = age\n",
    "#         print('__init__')\n",
    "        \n",
    "    # 自定义的方法 \n",
    "    def show(self):\n",
    "        \n",
    "        print(self.name,self.age)\n",
    "        \n",
    "t1 = Teacher('panda',18)\n",
    "t2 = Teacher('kkb',19)\n",
    "# print(t2.name,t2.age)\n",
    "# print(t1.name,t1.age)\n",
    "t1.show()\n",
    "t2.show()"
   ]
  },
  {
   "cell_type": "code",
   "execution_count": 35,
   "metadata": {},
   "outputs": [
    {
     "name": "stdout",
     "output_type": "stream",
     "text": [
      "__new__\n",
      "__init__\n"
     ]
    },
    {
     "data": {
      "text/plain": [
       "<__main__.Dog at 0x11270ef28>"
      ]
     },
     "execution_count": 35,
     "metadata": {},
     "output_type": "execute_result"
    }
   ],
   "source": [
    "# 对象的创建流程(理解就行)\n",
    "class Dog(object):\n",
    "    # 初始化\n",
    "    def __init__(self):\n",
    "        \n",
    "        print('__init__')\n",
    "    \n",
    "    \n",
    "    # 创建的方法\n",
    "    def __new__(cls):\n",
    "        print('__new__')\n",
    "        \n",
    "        return object.__new__(cls)\n",
    "Dog()\n"
   ]
  },
  {
   "cell_type": "code",
   "execution_count": null,
   "metadata": {},
   "outputs": [],
   "source": [
    "文件，异常，模块"
   ]
  }
 ],
 "metadata": {
  "kernelspec": {
   "display_name": "Python 3",
   "language": "python",
   "name": "python3"
  },
  "language_info": {
   "codemirror_mode": {
    "name": "ipython",
    "version": 3
   },
   "file_extension": ".py",
   "mimetype": "text/x-python",
   "name": "python",
   "nbconvert_exporter": "python",
   "pygments_lexer": "ipython3",
   "version": "3.7.3"
  }
 },
 "nbformat": 4,
 "nbformat_minor": 2
}
