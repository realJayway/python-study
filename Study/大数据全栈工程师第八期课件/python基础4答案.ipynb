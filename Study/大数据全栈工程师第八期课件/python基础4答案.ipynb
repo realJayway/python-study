{
 "cells": [
  {
   "cell_type": "code",
   "execution_count": null,
   "metadata": {},
   "outputs": [],
   "source": [
    "# 1、写出面向对象的三大特征。\n",
    "\n",
    "# 封装、继承、多态"
   ]
  },
  {
   "cell_type": "code",
   "execution_count": 9,
   "metadata": {},
   "outputs": [
    {
     "name": "stdout",
     "output_type": "stream",
     "text": [
      "请输入一个整数-123\n",
      "-321\n"
     ]
    }
   ],
   "source": [
    "# 2、给出一个有符号整数，你需要将这个整数中每位上的数字进行反转。\n",
    "def func2():\n",
    "    num = int(input(\"请输入一个整数\"))         #输入数字\n",
    "    if num >= 0:\n",
    "        num = int(str(num)[::-1])      # 先变成字符串倒序输出来，再变成整数型    \n",
    "    else:\n",
    "        num = - int(str(-num)[::-1])  #此时数值为负数，先将负数变成正数，以字符串的形式倒序输出来，再将其变成负数整数型，。\n",
    "    return num\n",
    "print(func2())"
   ]
  },
  {
   "cell_type": "code",
   "execution_count": 7,
   "metadata": {},
   "outputs": [
    {
     "name": "stdout",
     "output_type": "stream",
     "text": [
      "请输入一个字符串appleaaaa\n"
     ]
    },
    {
     "data": {
      "text/plain": [
       "['ap', 'pl', 'ea', 'aa', 'a']"
      ]
     },
     "execution_count": 7,
     "metadata": {},
     "output_type": "execute_result"
    }
   ],
   "source": [
    "# 3、给出一个字符串，将其每两个字符作为一个元素存入列表中并打印，（最后一个元素可以传入一个字符）。\n",
    "def func3():\n",
    "    s = input(\"请输入一个字符串\")\n",
    "    result = []         #定义一个空的列表  比如字符串=\"seven\"    len('seven')=5,则 se   ve     n  \n",
    "    i = 0                              \n",
    "    while i < len(s):    #判断条件为   i<=len(s)\n",
    "        if i+2 <= len(s):\n",
    "            result.append(s[i:i+2])    # 两个字符作为一组增加到列表中去\n",
    "        else:\n",
    "            result.append(s[i:])   #其余的剩下的一个字符增加到列表中\n",
    "        i+=2\n",
    "    return result\n",
    "func3()"
   ]
  },
  {
   "cell_type": "code",
   "execution_count": 6,
   "metadata": {},
   "outputs": [
    {
     "name": "stdout",
     "output_type": "stream",
     "text": [
      "['ap', 'pl', 'es', 'ss', 's']\n"
     ]
    }
   ],
   "source": [
    "#第3题\n",
    "def func2(str_1):\n",
    "    len_str=len(str_1)\n",
    "    result=[]\n",
    "    for i in range(0,len_str,2):     #len(apple)=5     索引为0,1,,2,3,4，   步长为2     0-1   2-3     4\n",
    "        result.append(str_1[i:i+2])   \n",
    "    return result\n",
    "result=func2('applessss')\n",
    "print(result)"
   ]
  },
  {
   "cell_type": "code",
   "execution_count": 3,
   "metadata": {},
   "outputs": [
    {
     "name": "stdout",
     "output_type": "stream",
     "text": [
      "0\n",
      "3\n"
     ]
    }
   ],
   "source": [
    "# 4、定义一个函数，输入三个参数(num1(数字1),num2(数字2),operator(运算符))，返回运算结果，构成一个小型计算器。\n",
    "# eval函数方法\n",
    "def func4(num1,num2,operator):\n",
    "    return eval('{}{}{}'.format(num1,operator,num2))   #\n",
    "print(func4(1,2,\"//\"))\n",
    "# print(func4(3,2,\"+\"))\n",
    "# print(func4(4,2,\"-\"))\n",
    "# print(func4(100,2,\"*\"))\n",
    "\n",
    "# 自定义循环方法，可以自行在循环中添加运算符，主要考察if..elif的运用\n",
    "def func5(num1,num2,operator):\n",
    "    if operator == '+':\n",
    "        return num1+num2\n",
    "    elif operator == '-':\n",
    "        return num1-num2\n",
    "    elif operator == '*':\n",
    "        return num1*num2\n",
    "    elif operator == '/':\n",
    "        return num1/num2\n",
    "    elif operator == '%':\n",
    "        return num1 % num2\n",
    "print(func5(1,2,\"+\"))"
   ]
  },
  {
   "cell_type": "code",
   "execution_count": 2,
   "metadata": {},
   "outputs": [
    {
     "data": {
      "text/plain": [
       "37.5"
      ]
     },
     "execution_count": 2,
     "metadata": {},
     "output_type": "execute_result"
    }
   ],
   "source": [
    "def cal(num1, num2, operator):\n",
    "    end = str(num1) + operator + str(num2)\n",
    "    end = eval(end)\n",
    "    return end\n",
    "\n",
    "cal(5,7.5,'*')"
   ]
  },
  {
   "cell_type": "code",
   "execution_count": 1,
   "metadata": {},
   "outputs": [
    {
     "name": "stdout",
     "output_type": "stream",
     "text": [
      "努力学习爵迹图书\n",
      "书籍名称：爵迹，价格：35，作者:郭敬明\n",
      "书籍名称：爵迹，价格：35，作者:郭敬明\n"
     ]
    }
   ],
   "source": [
    "# 5、定义类class为Book，定义__init__函数和 自定义函数举例如： you(),info()\n",
    "\n",
    "# 1) __init__中，需要默认书籍名称，价格，作者 例如name = \"爵迹\",price=\"39\",author=\"郭敬明\"\n",
    "# 2) 定义实例方法you()，使用输出以下字样%s为书籍名称 \"努力学习%s图书\"\n",
    "# 3）定义实例方法info()：打印书的详细信息 \"书籍名称：%s，价格：%s，作者:%s\"\n",
    "# 4) 定义一个子类，继承Book类 类名：BookZi,  BookZi中不定义任何函数, pass\n",
    "# 5）实例化对象__init__(),you(),info() 输出父类you方法，输出子类继承的info方法\n",
    "\n",
    "\n",
    "class Book():\n",
    "    def __init__(self,name = '爵迹',price = '35',author = '郭敬明'):\n",
    "        self.name = name\n",
    "        self.price = price\n",
    "        self.author = author\n",
    "\n",
    "    def you(self):\n",
    "        print('努力学习%s图书'%self.name)\n",
    "\n",
    "    def info(self):\n",
    "        print('书籍名称：%s，价格：%s，作者:%s'%(self.name,self.price,self.author))\n",
    "\n",
    "# 定义一个子类，继承Book类（3分）\n",
    "class BookZi(Book):\n",
    "    pass\n",
    "book = Book()\n",
    "book.you()\n",
    "book.__init__()\n",
    "a = book.info()\n",
    "\n",
    "bookzi = BookZi()\n",
    "bookzi.info()"
   ]
  },
  {
   "cell_type": "code",
   "execution_count": null,
   "metadata": {},
   "outputs": [],
   "source": []
  }
 ],
 "metadata": {
  "kernelspec": {
   "display_name": "Python 3",
   "language": "python",
   "name": "python3"
  },
  "language_info": {
   "codemirror_mode": {
    "name": "ipython",
    "version": 3
   },
   "file_extension": ".py",
   "mimetype": "text/x-python",
   "name": "python",
   "nbconvert_exporter": "python",
   "pygments_lexer": "ipython3",
   "version": "3.7.3"
  }
 },
 "nbformat": 4,
 "nbformat_minor": 2
}
