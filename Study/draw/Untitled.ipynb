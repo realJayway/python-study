{
 "cells": [
  {
   "cell_type": "code",
   "execution_count": 2,
   "metadata": {},
   "outputs": [
    {
     "name": "stdout",
     "output_type": "stream",
     "text": [
      "9不是质数\n",
      "False\n"
     ]
    }
   ],
   "source": [
    "import math\n",
    "\n",
    "def isprime(x):\n",
    "    s = int(math.sqrt(x))\n",
    "    for i in range(2,s+1):\n",
    "        if x % i == 0:\n",
    "            return False\n",
    "    return True\n",
    "\n",
    "print(isprime(9))"
   ]
  },
  {
   "cell_type": "code",
   "execution_count": 3,
   "metadata": {},
   "outputs": [
    {
     "data": {
      "text/plain": [
       "3"
      ]
     },
     "execution_count": 3,
     "metadata": {},
     "output_type": "execute_result"
    }
   ],
   "source": [
    "a = 3.14\n",
    "b = int(a)\n",
    "b"
   ]
  },
  {
   "cell_type": "code",
   "execution_count": 10,
   "metadata": {},
   "outputs": [
    {
     "name": "stdout",
     "output_type": "stream",
     "text": [
      "4不是质数\n",
      "4 4不是质数\n"
     ]
    }
   ],
   "source": [
    "a = 4.9\n",
    "b = int(a)\n",
    "b\n",
    "print(\"%d不是质数\" %a)\n",
    "print(\"%d %d不是质数\" %(a, b))"
   ]
  },
  {
   "cell_type": "code",
   "execution_count": 16,
   "metadata": {},
   "outputs": [
    {
     "name": "stdout",
     "output_type": "stream",
     "text": [
      "2是质数\n",
      "3是质数\n",
      "4不是质数\n",
      "5是质数\n",
      "6不是质数\n",
      "7是质数\n",
      "8不是质数\n",
      "9不是质数\n",
      "10不是质数\n",
      "11是质数\n",
      "12不是质数\n",
      "13是质数\n",
      "14不是质数\n",
      "15不是质数\n",
      "16不是质数\n",
      "17是质数\n",
      "18不是质数\n",
      "19是质数\n",
      "20不是质数\n",
      "21不是质数\n",
      "22不是质数\n",
      "23是质数\n",
      "24不是质数\n",
      "25不是质数\n",
      "26不是质数\n",
      "27不是质数\n",
      "28不是质数\n",
      "29是质数\n",
      "30不是质数\n",
      "31是质数\n",
      "32不是质数\n",
      "33不是质数\n",
      "34不是质数\n",
      "35不是质数\n",
      "36不是质数\n",
      "37是质数\n",
      "38不是质数\n",
      "39不是质数\n",
      "40不是质数\n",
      "41是质数\n",
      "42不是质数\n",
      "43是质数\n",
      "44不是质数\n",
      "45不是质数\n",
      "46不是质数\n",
      "47是质数\n",
      "48不是质数\n",
      "49不是质数\n",
      "50不是质数\n",
      "51不是质数\n",
      "52不是质数\n",
      "53是质数\n",
      "54不是质数\n",
      "55不是质数\n",
      "56不是质数\n",
      "57不是质数\n",
      "58不是质数\n",
      "59是质数\n",
      "60不是质数\n",
      "61是质数\n",
      "62不是质数\n",
      "63不是质数\n",
      "64不是质数\n",
      "65不是质数\n",
      "66不是质数\n",
      "67是质数\n",
      "68不是质数\n",
      "69不是质数\n",
      "70不是质数\n",
      "71是质数\n",
      "72不是质数\n",
      "73是质数\n",
      "74不是质数\n",
      "75不是质数\n",
      "76不是质数\n",
      "77不是质数\n",
      "78不是质数\n",
      "79是质数\n",
      "80不是质数\n",
      "81不是质数\n",
      "82不是质数\n",
      "83是质数\n",
      "84不是质数\n",
      "85不是质数\n",
      "86不是质数\n",
      "87不是质数\n",
      "88不是质数\n",
      "89是质数\n",
      "90不是质数\n",
      "91不是质数\n",
      "92不是质数\n",
      "93不是质数\n",
      "94不是质数\n",
      "95不是质数\n",
      "96不是质数\n",
      "97是质数\n",
      "98不是质数\n",
      "99不是质数\n",
      "100不是质数\n"
     ]
    }
   ],
   "source": [
    "def isprime(x):\n",
    "    s = int(math.sqrt(x))\n",
    "    for i in range(2,s+1):\n",
    "        if x % i == 0:\n",
    "            return print(\"%d不是质数\" %x)\n",
    "    return print(\"%d是质数\" %x)\n",
    "\n",
    "\n",
    "\n",
    "for i in range(2,101):\n",
    "    isprime(i)"
   ]
  },
  {
   "cell_type": "code",
   "execution_count": 28,
   "metadata": {},
   "outputs": [
    {
     "name": "stdout",
     "output_type": "stream",
     "text": [
      "2 is prime\n",
      "3 is prime\n"
     ]
    }
   ],
   "source": [
    "def print_prime(x):\n",
    "    s,t = 0,0\n",
    "    for i in range(2,x+1):\n",
    "        s = int(math.sqrt(i))\n",
    "        for j in range(2,s+1):\n",
    "            if i % j == 0:\n",
    "                t = 1\n",
    "                break\n",
    "        if t == 0:\n",
    "            print(\"%d is prime\" %i)\n",
    "            \n",
    "\n",
    "            \n",
    "print_prime(100)"
   ]
  },
  {
   "cell_type": "code",
   "execution_count": 1,
   "metadata": {},
   "outputs": [],
   "source": [
    "a =[1,2,3,4,5,6,7,8,9,10]"
   ]
  },
  {
   "cell_type": "code",
   "execution_count": 2,
   "metadata": {},
   "outputs": [
    {
     "data": {
      "text/plain": [
       "[]"
      ]
     },
     "execution_count": 2,
     "metadata": {},
     "output_type": "execute_result"
    }
   ],
   "source": [
    "a[2:5:-1]"
   ]
  },
  {
   "cell_type": "code",
   "execution_count": 3,
   "metadata": {},
   "outputs": [
    {
     "data": {
      "text/plain": [
       "[6, 5, 4]"
      ]
     },
     "execution_count": 3,
     "metadata": {},
     "output_type": "execute_result"
    }
   ],
   "source": [
    "a[5:2:-1]"
   ]
  },
  {
   "cell_type": "code",
   "execution_count": 4,
   "metadata": {},
   "outputs": [
    {
     "data": {
      "text/plain": [
       "[9, 10]"
      ]
     },
     "execution_count": 4,
     "metadata": {},
     "output_type": "execute_result"
    }
   ],
   "source": [
    "a[-2::]"
   ]
  },
  {
   "cell_type": "code",
   "execution_count": 7,
   "metadata": {},
   "outputs": [
    {
     "data": {
      "text/plain": [
       "[9, 8, 7, 6, 5, 4, 3]"
      ]
     },
     "execution_count": 7,
     "metadata": {},
     "output_type": "execute_result"
    }
   ],
   "source": [
    "a[-2:1:-1]"
   ]
  },
  {
   "cell_type": "code",
   "execution_count": 8,
   "metadata": {},
   "outputs": [
    {
     "data": {
      "text/plain": [
       "[9, 8, 7, 6, 5, 4, 3, 2]"
      ]
     },
     "execution_count": 8,
     "metadata": {},
     "output_type": "execute_result"
    }
   ],
   "source": [
    "a[-2:0:-1]"
   ]
  },
  {
   "cell_type": "code",
   "execution_count": 9,
   "metadata": {},
   "outputs": [
    {
     "data": {
      "text/plain": [
       "[9, 8, 7, 6, 5, 4, 3, 2, 1]"
      ]
     },
     "execution_count": 9,
     "metadata": {},
     "output_type": "execute_result"
    }
   ],
   "source": [
    "a[-2::-1]"
   ]
  },
  {
   "cell_type": "code",
   "execution_count": null,
   "metadata": {},
   "outputs": [],
   "source": []
  }
 ],
 "metadata": {
  "kernelspec": {
   "display_name": "Python 3",
   "language": "python",
   "name": "python3"
  },
  "language_info": {
   "codemirror_mode": {
    "name": "ipython",
    "version": 3
   },
   "file_extension": ".py",
   "mimetype": "text/x-python",
   "name": "python",
   "nbconvert_exporter": "python",
   "pygments_lexer": "ipython3",
   "version": "3.7.3"
  }
 },
 "nbformat": 4,
 "nbformat_minor": 2
}
