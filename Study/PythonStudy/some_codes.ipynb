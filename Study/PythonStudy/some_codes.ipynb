{
 "cells": [
  {
   "cell_type": "markdown",
   "metadata": {},
   "source": []
  },
  {
   "cell_type": "code",
   "execution_count": 11,
   "metadata": {},
   "outputs": [
    {
     "name": "stdout",
     "output_type": "stream",
     "text": [
      "输入整数8\n",
      "可以被2整除，但不能被3整除\n"
     ]
    }
   ],
   "source": [
    "n = int(input('输入整数'))\n",
    "if n % 2 == 0 and n % 3 == 0:\n",
    "    print(\"可以被6整除\")\n",
    "elif n % 2 == 0:\n",
    "    print(\"可以被2整除，但不能被3整除\")\n",
    "elif n % 3 == 0:\n",
    "    print(\"可以被3整除，但不能被2整除\")\n",
    "else:\n",
    "    print(\"不可以被2或3整除\")"
   ]
  },
  {
   "cell_type": "code",
   "execution_count": 30,
   "metadata": {},
   "outputs": [
    {
     "name": "stdout",
     "output_type": "stream",
     "text": [
      "请输入用户名：1231\n",
      "请输入密码：3123\n",
      "登陆失败\n",
      "请输入用户名：45\n",
      "请输入密码：6\n",
      "登陆失败\n",
      "请输入用户名：3\n",
      "请输入密码：21\n",
      "登陆失败\n",
      "\n",
      "登录次数用尽\n"
     ]
    }
   ],
   "source": [
    "i = 3\n",
    "while i > 0:\n",
    "    userid = input('请输入用户名：')\n",
    "    password = input('请输入密码：')\n",
    "    if userid == 'seven' and password == '123':\n",
    "        print('登录成功')\n",
    "        break\n",
    "    else:\n",
    "        print('登陆失败')\n",
    "        i -= 1\n",
    "if i <= 0:\n",
    "    print()\n",
    "    print('登录次数用尽')"
   ]
  },
  {
   "cell_type": "code",
   "execution_count": 16,
   "metadata": {},
   "outputs": [
    {
     "name": "stdout",
     "output_type": "stream",
     "text": [
      "50\n"
     ]
    }
   ],
   "source": [
    "symbol,s = 1,0 \n",
    "for i in range(1,100):\n",
    "    i *= symbol\n",
    "    s += i\n",
    "    symbol *= -1\n",
    "print(s)"
   ]
  },
  {
   "cell_type": "code",
   "execution_count": 19,
   "metadata": {},
   "outputs": [
    {
     "name": "stdout",
     "output_type": "stream",
     "text": [
      "1*1=1 \n",
      "2*1=2 2*2=4 \n",
      "3*1=3 3*2=6 3*3=9 \n",
      "4*1=4 4*2=8 4*3=12 4*4=16 \n",
      "5*1=5 5*2=10 5*3=15 5*4=20 5*5=25 \n",
      "6*1=6 6*2=12 6*3=18 6*4=24 6*5=30 6*6=36 \n",
      "7*1=7 7*2=14 7*3=21 7*4=28 7*5=35 7*6=42 7*7=49 \n",
      "8*1=8 8*2=16 8*3=24 8*4=32 8*5=40 8*6=48 8*7=56 8*8=64 \n",
      "9*1=9 9*2=18 9*3=27 9*4=36 9*5=45 9*6=54 9*7=63 9*8=72 9*9=81 \n"
     ]
    }
   ],
   "source": [
    "i = 1\n",
    "while i <= 9:\n",
    "    for j in range(1,i+1):\n",
    "        print('%d*%d=%d' %(i,j,i*j),end = ' ')\n",
    "    print( )\n",
    "    i += 1"
   ]
  },
  {
   "cell_type": "code",
   "execution_count": 32,
   "metadata": {},
   "outputs": [
    {
     "name": "stdout",
     "output_type": "stream",
     "text": [
      "0\n",
      "-100\n"
     ]
    }
   ],
   "source": [
    "k = 0\n",
    "for i in range(100,-105,-5):\n",
    "    k += i\n",
    "print(k)\n",
    "print(i)"
   ]
  },
  {
   "cell_type": "markdown",
   "metadata": {},
   "source": [
    "根据字典name = {\"a\":\"张三\",\"b\":\"李四\",\"c\":\"王五\",\"d\":\"赵六\"}进行以下操作， #用代码表示出来  \n",
    "1. 获取字典的所有 key ，将得到的 key 组成列表\n",
    "2. 获取字典的所有 values，将得到的 values 组成列表\n",
    "3.  使用题 2) 得到的列表进行切片，获取字符串\"王五\"  的名称\n",
    "4. 用 e 替换掉 字典name 中 的key值 d    例如  name = {\"e\":\"赵六\"} [上传文件题]\n"
   ]
  },
  {
   "cell_type": "code",
   "execution_count": 33,
   "metadata": {},
   "outputs": [],
   "source": [
    "name = {\"a\":\"张三\",\"b\":\"李四\",\"c\":\"王五\",\"d\":\"赵六\"}"
   ]
  },
  {
   "cell_type": "code",
   "execution_count": 35,
   "metadata": {},
   "outputs": [
    {
     "data": {
      "text/plain": [
       "dict_keys(['a', 'b', 'c', 'd'])"
      ]
     },
     "execution_count": 35,
     "metadata": {},
     "output_type": "execute_result"
    }
   ],
   "source": [
    "name.keys()"
   ]
  },
  {
   "cell_type": "code",
   "execution_count": 36,
   "metadata": {},
   "outputs": [
    {
     "data": {
      "text/plain": [
       "['a', 'b', 'c', 'd']"
      ]
     },
     "execution_count": 36,
     "metadata": {},
     "output_type": "execute_result"
    }
   ],
   "source": [
    "list(name.keys())"
   ]
  },
  {
   "cell_type": "code",
   "execution_count": 37,
   "metadata": {},
   "outputs": [
    {
     "data": {
      "text/plain": [
       "dict_values(['张三', '李四', '王五', '赵六'])"
      ]
     },
     "execution_count": 37,
     "metadata": {},
     "output_type": "execute_result"
    }
   ],
   "source": [
    "name.values()"
   ]
  },
  {
   "cell_type": "code",
   "execution_count": 38,
   "metadata": {},
   "outputs": [
    {
     "data": {
      "text/plain": [
       "['张三', '李四', '王五', '赵六']"
      ]
     },
     "execution_count": 38,
     "metadata": {},
     "output_type": "execute_result"
    }
   ],
   "source": [
    "list(name.values())"
   ]
  },
  {
   "cell_type": "code",
   "execution_count": 39,
   "metadata": {},
   "outputs": [
    {
     "data": {
      "text/plain": [
       "['张三', '李四', '王五', '赵六']"
      ]
     },
     "execution_count": 39,
     "metadata": {},
     "output_type": "execute_result"
    }
   ],
   "source": [
    "listname = list(name.values())\n",
    "listname"
   ]
  },
  {
   "cell_type": "code",
   "execution_count": 40,
   "metadata": {},
   "outputs": [
    {
     "data": {
      "text/plain": [
       "'王五'"
      ]
     },
     "execution_count": 40,
     "metadata": {},
     "output_type": "execute_result"
    }
   ],
   "source": [
    "listname[2]"
   ]
  },
  {
   "cell_type": "code",
   "execution_count": 44,
   "metadata": {},
   "outputs": [
    {
     "data": {
      "text/plain": [
       "{'a': '张三', 'b': '李四', 'c': '王五', 'e': '赵六'}"
      ]
     },
     "execution_count": 44,
     "metadata": {},
     "output_type": "execute_result"
    }
   ],
   "source": [
    "name[\"e\"] = name.pop(\"d\")\n",
    "name"
   ]
  },
  {
   "cell_type": "code",
   "execution_count": null,
   "metadata": {},
   "outputs": [],
   "source": []
  },
  {
   "cell_type": "code",
   "execution_count": 45,
   "metadata": {},
   "outputs": [
    {
     "name": "stdout",
     "output_type": "stream",
     "text": [
      "2数求和\n"
     ]
    }
   ],
   "source": [
    "def test(a,b):\n",
    "    \"2数求和\"\n",
    "    print(\"%d\" %(a+b))\n",
    "    \n",
    "    \n",
    "print(test.__doc__)"
   ]
  },
  {
   "cell_type": "markdown",
   "metadata": {},
   "source": [
    "一个def函数是输入一个千位数，例如1234 ，输出结果为 个位： 4 十位：3 百位：2, 千位：1"
   ]
  },
  {
   "cell_type": "code",
   "execution_count": 46,
   "metadata": {},
   "outputs": [],
   "source": [
    "def fun(n):\n",
    "    a = n%10\n",
    "    b = n//10%10\n",
    "    c = n//100%10\n",
    "    d = n//1000\n",
    "    print('个位：%d 十位：%d 百位：%d 千位：%d' %(a,b,c,d))"
   ]
  },
  {
   "cell_type": "code",
   "execution_count": 47,
   "metadata": {},
   "outputs": [
    {
     "name": "stdout",
     "output_type": "stream",
     "text": [
      "个位：4 十位：3 百位：0 千位：2\n"
     ]
    }
   ],
   "source": [
    "fun(2034)"
   ]
  },
  {
   "cell_type": "markdown",
   "metadata": {},
   "source": [
    "编写一个函数，求出0到给定数字之间的奇数相加的和"
   ]
  },
  {
   "cell_type": "code",
   "execution_count": 48,
   "metadata": {},
   "outputs": [],
   "source": [
    "def oddSum(n):\n",
    "    s = 0\n",
    "    for i in range(n+1):\n",
    "        if i%2 != 0:\n",
    "            s += i\n",
    "    return s"
   ]
  },
  {
   "cell_type": "code",
   "execution_count": 49,
   "metadata": {},
   "outputs": [
    {
     "data": {
      "text/plain": [
       "841"
      ]
     },
     "execution_count": 49,
     "metadata": {},
     "output_type": "execute_result"
    }
   ],
   "source": [
    "oddSum(58)"
   ]
  },
  {
   "cell_type": "markdown",
   "metadata": {},
   "source": [
    "定义函数，传入一个字典，返回一个新的字典，里面包含原字典的key以及对应value的数据类型，如  \n",
    "\n",
    "输入：{'a':1,'b':\"aaaa\",'c':True}  \n",
    "返回：{'a': int, 'b': str, 'c': bool}  \n"
   ]
  },
  {
   "cell_type": "code",
   "execution_count": 55,
   "metadata": {},
   "outputs": [],
   "source": [
    "def returnNewDict(dic):\n",
    "    \"\"\"\n",
    "    返回一个value为数据类型的字典\n",
    "    :type: dict\n",
    "    :rtype: dict\n",
    "    \"\"\"\n",
    "    for i in dic:\n",
    "        dic[i] = type(dic[i])\n",
    "    return dic\n",
    "        "
   ]
  },
  {
   "cell_type": "code",
   "execution_count": 56,
   "metadata": {},
   "outputs": [
    {
     "data": {
      "text/plain": [
       "{'a': int, 'b': str, 'c': bool}"
      ]
     },
     "execution_count": 56,
     "metadata": {},
     "output_type": "execute_result"
    }
   ],
   "source": [
    "dic = {'a':1,'b':\"aaaa\",'c':True}\n",
    "returnNewDict(dic)"
   ]
  },
  {
   "cell_type": "code",
   "execution_count": 57,
   "metadata": {},
   "outputs": [],
   "source": [
    "def return_new_dict(dic):\n",
    "    dic_new = {}\n",
    "    for k,v in dic.items():\n",
    "        dic_new[k] = type(v)\n",
    "    return dic_new\n"
   ]
  },
  {
   "cell_type": "code",
   "execution_count": 58,
   "metadata": {},
   "outputs": [
    {
     "data": {
      "text/plain": [
       "{'a': int, 'b': str, 'c': bool}"
      ]
     },
     "execution_count": 58,
     "metadata": {},
     "output_type": "execute_result"
    }
   ],
   "source": [
    "dic = {'a':1,'b':\"aaaa\",'c':True}\n",
    "returnNewDict(dic)"
   ]
  },
  {
   "cell_type": "markdown",
   "metadata": {},
   "source": [
    "给出一个有符号整数，你需要将这个整数中每位上的数字进行反转。\n",
    "如：输入：-321  \n",
    "输出：-123\n"
   ]
  },
  {
   "cell_type": "code",
   "execution_count": 20,
   "metadata": {},
   "outputs": [],
   "source": [
    "def reverse(n):\n",
    "    \"\"\"\n",
    "    :type n: int\n",
    "    :rtype: int\n",
    "    \"\"\"\n",
    "    symbol = 1\n",
    "    if n<0:\n",
    "        symbol = -1\n",
    "    n = abs(n)\n",
    "    a = str(n)\n",
    "    b = a[::-1]\n",
    "    n = int(b)\n",
    "    return n * symbol"
   ]
  },
  {
   "cell_type": "code",
   "execution_count": 21,
   "metadata": {},
   "outputs": [
    {
     "data": {
      "text/plain": [
       "-123"
      ]
     },
     "execution_count": 21,
     "metadata": {},
     "output_type": "execute_result"
    }
   ],
   "source": [
    "n = -321\n",
    "reverse(n)"
   ]
  },
  {
   "cell_type": "markdown",
   "metadata": {},
   "source": [
    "给出一个字符串，将其每两个字符作为一个元素存入列表中并打印，（最后一个元素可以传入一个字符）。\n",
    "如：\n",
    "```\n",
    "输入：\"apple\" \n",
    "输出：['ap','pl','e'] \n",
    "```"
   ]
  },
  {
   "cell_type": "code",
   "execution_count": 24,
   "metadata": {},
   "outputs": [],
   "source": [
    "def printList(s):\n",
    "    \"\"\"\n",
    "    type s: str\n",
    "    rtype: list\n",
    "    \"\"\"\n",
    "    list1 = []\n",
    "    while len(s) >= 2:\n",
    "        list1 += [s[0:2]]\n",
    "        s = s[2:]\n",
    "    if len(s) == 1:\n",
    "        list1 += [s[0]]\n",
    "    return list1"
   ]
  },
  {
   "cell_type": "code",
   "execution_count": 25,
   "metadata": {},
   "outputs": [
    {
     "data": {
      "text/plain": [
       "['ap', 'pl', 'e']"
      ]
     },
     "execution_count": 25,
     "metadata": {},
     "output_type": "execute_result"
    }
   ],
   "source": [
    "s = 'apple'\n",
    "printList(s)"
   ]
  },
  {
   "cell_type": "code",
   "execution_count": 27,
   "metadata": {},
   "outputs": [
    {
     "data": {
      "text/plain": [
       "[]"
      ]
     },
     "execution_count": 27,
     "metadata": {},
     "output_type": "execute_result"
    }
   ],
   "source": [
    "s = ''\n",
    "printList(s)"
   ]
  },
  {
   "cell_type": "code",
   "execution_count": 29,
   "metadata": {},
   "outputs": [
    {
     "data": {
      "text/plain": [
       "['a']"
      ]
     },
     "execution_count": 29,
     "metadata": {},
     "output_type": "execute_result"
    }
   ],
   "source": [
    "s = 'a'\n",
    "printList(s)"
   ]
  },
  {
   "cell_type": "code",
   "execution_count": 30,
   "metadata": {},
   "outputs": [
    {
     "data": {
      "text/plain": [
       "['he', 'll', 'ow', 'or', 'ld']"
      ]
     },
     "execution_count": 30,
     "metadata": {},
     "output_type": "execute_result"
    }
   ],
   "source": [
    "s = 'helloworld'\n",
    "printList(s)"
   ]
  },
  {
   "cell_type": "markdown",
   "metadata": {},
   "source": [
    "定义一个函数，输入三个参数(num1(数字1),num2(数字2),operator(运算符))，返回运算结果，构成一个小型计算器。\n",
    "如：\n",
    "```\n",
    "输入：(2,3,\"+\") \n",
    "输出：5\n",
    "```"
   ]
  },
  {
   "cell_type": "code",
   "execution_count": 32,
   "metadata": {},
   "outputs": [],
   "source": [
    "def calc(num1,num2,op):\n",
    "    if op == '+':\n",
    "        return num1+num2\n",
    "    elif op == '-':\n",
    "        return num1-num2\n",
    "    elif op == '*':\n",
    "        return num1*num2\n",
    "    else:\n",
    "        return num1/num2"
   ]
  },
  {
   "cell_type": "code",
   "execution_count": 34,
   "metadata": {},
   "outputs": [
    {
     "data": {
      "text/plain": [
       "5"
      ]
     },
     "execution_count": 34,
     "metadata": {},
     "output_type": "execute_result"
    }
   ],
   "source": [
    "calc(2,3,\"+\")"
   ]
  },
  {
   "cell_type": "markdown",
   "metadata": {},
   "source": [
    "定义类class为Book，定义__init__函数和 自定义函数举例如： you(),info()\n",
    "```\n",
    "1) __init__中，需要默认书籍名称，价格，作者 例如name = \"爵迹\",price=\"39\",author=\"郭敬明\"\n",
    "2) 定义实例方法you()，使用输出以下字样%s为书籍名称 \"努力学习%s图书\"\n",
    "3) 定义实例方法info()：打印书的详细信息 \"书籍名称：%s，价格：%s，作者:%s\"\n",
    "4) 定义一个子类，继承Book类 类名：BookZi,  BookZi中不定义任何函数, pass\n",
    "5) 实例化对象__init__(),you(),info() 输出父类you方法，输出子类继承的info方法\n",
    "```\n"
   ]
  },
  {
   "cell_type": "code",
   "execution_count": 14,
   "metadata": {},
   "outputs": [],
   "source": [
    "class Book(object):\n",
    "    # 初始化\n",
    "    def __init__(self, name = '神雕侠侣', price = 55, author = '金庸'):\n",
    "            self.name = name\n",
    "            self.price = price\n",
    "            self.author = author\n",
    "    def you(self):\n",
    "        print('努力学习%s图书' %self.name)\n",
    "    def info(self):\n",
    "        print('书籍名称：%s，价格：%s，作者：%s' %(self.name, self.price, self.author))\n",
    "\n",
    "class BookZi(Book):\n",
    "    pass"
   ]
  },
  {
   "cell_type": "code",
   "execution_count": 15,
   "metadata": {},
   "outputs": [
    {
     "name": "stdout",
     "output_type": "stream",
     "text": [
      "努力学习射雕英雄传图书\n"
     ]
    }
   ],
   "source": [
    "b = Book('射雕英雄传','68','金庸')\n",
    "b.you()\n"
   ]
  },
  {
   "cell_type": "code",
   "execution_count": 16,
   "metadata": {},
   "outputs": [
    {
     "name": "stdout",
     "output_type": "stream",
     "text": [
      "书籍名称：射雕英雄传，价格：68，作者：金庸\n"
     ]
    }
   ],
   "source": [
    "b.info()"
   ]
  },
  {
   "cell_type": "code",
   "execution_count": 17,
   "metadata": {},
   "outputs": [
    {
     "name": "stdout",
     "output_type": "stream",
     "text": [
      "努力学习天龙八部图书\n"
     ]
    }
   ],
   "source": [
    "a = BookZi('天龙八部','59','金庸')\n",
    "a.you()"
   ]
  },
  {
   "cell_type": "code",
   "execution_count": 19,
   "metadata": {},
   "outputs": [],
   "source": [
    "a.__init__()"
   ]
  },
  {
   "cell_type": "code",
   "execution_count": null,
   "metadata": {},
   "outputs": [],
   "source": []
  }
 ],
 "metadata": {
  "kernelspec": {
   "display_name": "Python 3",
   "language": "python",
   "name": "python3"
  },
  "language_info": {
   "codemirror_mode": {
    "name": "ipython",
    "version": 3
   },
   "file_extension": ".py",
   "mimetype": "text/x-python",
   "name": "python",
   "nbconvert_exporter": "python",
   "pygments_lexer": "ipython3",
   "version": "3.7.3"
  }
 },
 "nbformat": 4,
 "nbformat_minor": 2
}
