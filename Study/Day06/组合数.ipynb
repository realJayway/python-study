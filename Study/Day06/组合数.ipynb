{
 "cells": [
  {
   "cell_type": "code",
   "execution_count": 2,
   "metadata": {},
   "outputs": [
    {
     "name": "stdout",
     "output_type": "stream",
     "text": [
      "m=5\n",
      "n=5\n",
      "C(5,5)=1\n"
     ]
    }
   ],
   "source": [
    "\"\"\"\n",
    "计算C(M,N)\n",
    "C(M,N)=M!/N!(M-N)！\n",
    "\"\"\"\n",
    "\n",
    "\n",
    "m=int(input('m='))\n",
    "n=int(input('n='))\n",
    "fm=1\n",
    "for x in range(1,m+1):\n",
    "    fm*=x\n",
    "fn=1\n",
    "for y in range(1,n+1):\n",
    "    fn*=y\n",
    "fmn=1\n",
    "for z in range(1,m-n+1):\n",
    "    fmn*=z\n",
    "print('C(%d,%d)=%d'%(m,n,fm//fn//fmn))"
   ]
  },
  {
   "cell_type": "code",
   "execution_count": null,
   "metadata": {},
   "outputs": [],
   "source": [
    "\"\"\"\n",
    "ex:思考如何扩充到负数和分数领域\n",
    "\n",
    "\"\"\""
   ]
  }
 ],
 "metadata": {
  "kernelspec": {
   "display_name": "Python 3",
   "language": "python",
   "name": "python3"
  },
  "language_info": {
   "codemirror_mode": {
    "name": "ipython",
    "version": 3
   },
   "file_extension": ".py",
   "mimetype": "text/x-python",
   "name": "python",
   "nbconvert_exporter": "python",
   "pygments_lexer": "ipython3",
   "version": "3.7.3"
  }
 },
 "nbformat": 4,
 "nbformat_minor": 2
}
