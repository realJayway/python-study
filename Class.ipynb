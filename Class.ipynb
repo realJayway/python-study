{
 "cells": [
  {
   "cell_type": "markdown",
   "metadata": {},
   "source": [
    "# 简介\n",
    "面向对象是我们经常能听到的术语，即class，类。   \n",
    "事实上，主角是两个，一个是类，一个是类实例。人类，是一个类，我们每一个人是一个人类的实例。而类之间又有一些关系，例如，我们既是人类，也是动物，更细化来讲，我们是哺乳类动物，灵长类，类似于集合的概念，哺乳动物属于动物，而在面向对象中我们通常称哺乳动物是动物的子类。而对于动物这个类来说，会自带一些属性，例如：年龄、体重。也会有一些方法：生殖、呼吸。而不同种类的动物（即动物类的各种子类）可能会有不同的属性或方法，像胎生、卵生，像鸟类的飞行的方法和豹子奔跑的方法。"
   ]
  },
  {
   "cell_type": "markdown",
   "metadata": {},
   "source": [
    "# 定义\n",
    "用关键字class去定义一个类，如果没有指定父类，默认继承object类。"
   ]
  },
  {
   "cell_type": "code",
   "execution_count": 1,
   "metadata": {},
   "outputs": [],
   "source": [
    "class Human(object):\n",
    "    pass"
   ]
  },
  {
   "cell_type": "markdown",
   "metadata": {},
   "source": [
    "这样，我们定义了一个Human，人类"
   ]
  },
  {
   "cell_type": "markdown",
   "metadata": {},
   "source": [
    "# 类属性"
   ]
  },
  {
   "cell_type": "code",
   "execution_count": 2,
   "metadata": {},
   "outputs": [],
   "source": [
    "class Human(object):\n",
    "    viviparism = True"
   ]
  },
  {
   "cell_type": "markdown",
   "metadata": {},
   "source": [
    "类属性是和类绑定而非与某个实例绑定的。即胎生这个属性是全人类共有的，而非某个人特有的"
   ]
  },
  {
   "cell_type": "markdown",
   "metadata": {},
   "source": [
    "# 实例属性"
   ]
  },
  {
   "cell_type": "code",
   "execution_count": 3,
   "metadata": {},
   "outputs": [],
   "source": [
    "class Human(object):\n",
    "    def __init__(self, name):\n",
    "        self.name = name"
   ]
  },
  {
   "cell_type": "code",
   "execution_count": 4,
   "metadata": {},
   "outputs": [
    {
     "data": {
      "text/plain": [
       "'alan'"
      ]
     },
     "execution_count": 4,
     "metadata": {},
     "output_type": "execute_result"
    }
   ],
   "source": [
    "human_a = Human(\"alan\")\n",
    "human_a.name"
   ]
  },
  {
   "cell_type": "markdown",
   "metadata": {},
   "source": [
    "我们首先实例化了一个人类human_a，然后给这个人类设置了一个实例属性name，name这个属性独立于其他的人类，是与实例绑定的，所以叫实例属性。  \n",
    "  \n",
    "  \n",
    "* 实例属性可以在创建后任意时间设置\n",
    "* 一般放在构造函数__init()__"
   ]
  },
  {
   "cell_type": "code",
   "execution_count": 5,
   "metadata": {},
   "outputs": [
    {
     "name": "stdout",
     "output_type": "stream",
     "text": [
      "alan\n",
      "bob\n"
     ]
    }
   ],
   "source": [
    "class Human(object):\n",
    "    pass\n",
    "human_a = Human()\n",
    "human_a.name = 'alan'\n",
    "human_b = Human()\n",
    "human_b.name = 'bob'\n",
    "print(human_a.name)\n",
    "print(human_b.name)\n"
   ]
  },
  {
   "cell_type": "markdown",
   "metadata": {},
   "source": [
    "# 类方法"
   ]
  },
  {
   "cell_type": "code",
   "execution_count": 6,
   "metadata": {},
   "outputs": [],
   "source": [
    "class Human(object):\n",
    "    def __init__(self, name):\n",
    "        self.name = name\n",
    "    def walk(self):\n",
    "        print(self.name + \" is walking\")"
   ]
  },
  {
   "cell_type": "code",
   "execution_count": 7,
   "metadata": {},
   "outputs": [
    {
     "name": "stdout",
     "output_type": "stream",
     "text": [
      "alan is walking\n"
     ]
    }
   ],
   "source": [
    "human_a = Human(\"alan\")\n",
    "human_a.walk()"
   ]
  },
  {
   "cell_type": "markdown",
   "metadata": {},
   "source": [
    "类的方法可以看做是一种类属性，而传入的第一个参数self，表示调用这个类方法的实例。像上面的例子，human_a调用了walk这个类方法，human_a的名字是alan，所以运行的结果就是alan is walking。"
   ]
  },
  {
   "cell_type": "markdown",
   "metadata": {},
   "source": [
    "# 访问控制\n",
    "从上面的例子来看，我们可以在外部随意更改name属性，如果不想让外部直接访问到，则在属性名字前面加两个下划线__name，这样外部就无法直接访问了。如果还想访问，个亿加一个get的接口："
   ]
  },
  {
   "cell_type": "code",
   "execution_count": 8,
   "metadata": {},
   "outputs": [
    {
     "name": "stdout",
     "output_type": "stream",
     "text": [
      "alan\n"
     ]
    }
   ],
   "source": [
    "class Human(object):\n",
    "    def __init__(self, name):\n",
    "        self.__name = name\n",
    "    def walk(self):\n",
    "        print(self.name + \" is walking\")\n",
    "    def get_name(self):\n",
    "        return self.__name\n",
    "human_a = Human(\"alan\")\n",
    "print(human_a.get_name())\n"
   ]
  },
  {
   "cell_type": "code",
   "execution_count": 9,
   "metadata": {
    "scrolled": true
   },
   "outputs": [
    {
     "ename": "AttributeError",
     "evalue": "'Human' object has no attribute '__name'",
     "output_type": "error",
     "traceback": [
      "\u001b[1;31m---------------------------------------------------------------------------\u001b[0m",
      "\u001b[1;31mAttributeError\u001b[0m                            Traceback (most recent call last)",
      "\u001b[1;32m<ipython-input-9-ffb2ab2079f9>\u001b[0m in \u001b[0;36m<module>\u001b[1;34m\u001b[0m\n\u001b[1;32m----> 1\u001b[1;33m \u001b[0mprint\u001b[0m\u001b[1;33m(\u001b[0m\u001b[0mhuman_a\u001b[0m\u001b[1;33m.\u001b[0m\u001b[0m__name\u001b[0m\u001b[1;33m)\u001b[0m\u001b[1;33m\u001b[0m\u001b[1;33m\u001b[0m\u001b[0m\n\u001b[0m",
      "\u001b[1;31mAttributeError\u001b[0m: 'Human' object has no attribute '__name'"
     ]
    }
   ],
   "source": [
    "print(human_a.__name)"
   ]
  },
  {
   "cell_type": "markdown",
   "metadata": {},
   "source": [
    "无法直接访问name"
   ]
  },
  {
   "cell_type": "markdown",
   "metadata": {},
   "source": [
    "如果还是想更改__name字段，可以再加上set接口"
   ]
  },
  {
   "cell_type": "code",
   "execution_count": 10,
   "metadata": {
    "scrolled": true
   },
   "outputs": [
    {
     "name": "stdout",
     "output_type": "stream",
     "text": [
      "alan\n",
      "bob\n"
     ]
    }
   ],
   "source": [
    "class Human(object):\n",
    "    def __init__(self, name):\n",
    "        self.__name = name\n",
    "    def walk(self):\n",
    "        print(self.name + \" is walking\")\n",
    "    def get_name(self):\n",
    "        return self.__name\n",
    "    def set_name(self, name):\n",
    "        self.__name = name\n",
    "\n",
    "human_a = Human(\"alan\")\n",
    "print(human_a.get_name())\n",
    "\n",
    "human_a.set_name(\"bob\")\n",
    "print(human_a.get_name())\n"
   ]
  },
  {
   "cell_type": "markdown",
   "metadata": {},
   "source": [
    "\"画蛇添足\"的作用：增强代码的健壮性，直接暴露属性可能会带来意想不到的后果，通过接口的方式加以控制。"
   ]
  },
  {
   "cell_type": "markdown",
   "metadata": {},
   "source": [
    "如：通过set接口去限定name的长度。"
   ]
  },
  {
   "cell_type": "code",
   "execution_count": 11,
   "metadata": {},
   "outputs": [
    {
     "name": "stdout",
     "output_type": "stream",
     "text": [
      "alan\n",
      "bob\n",
      "bob\n"
     ]
    }
   ],
   "source": [
    "class Human(object):\n",
    "    def __init__(self, name):\n",
    "        self.__name = name\n",
    "    def walk(self):\n",
    "        print(self.name + \" is walking\")\n",
    "    def get_name(self):\n",
    "        return self.__name\n",
    "    def set_name(self, name):\n",
    "        if len(name) <= 10:\n",
    "            self.__name = name\n",
    "\n",
    "human_a = Human(\"alan\")\n",
    "print(human_a.get_name())\n",
    "\n",
    "human_a.set_name(\"bob\")\n",
    "print(human_a.get_name())\n",
    "\n",
    "human_a.set_name(\"Schweinsteiger\")\n",
    "print(human_a.get_name())"
   ]
  },
  {
   "cell_type": "markdown",
   "metadata": {},
   "source": [
    "# 继承"
   ]
  },
  {
   "cell_type": "markdown",
   "metadata": {},
   "source": [
    "分类中有父类和子类，子类可以继承父类的属性。如：人类分为男人和女人。  \n",
    "多态：同一操作作用于不同的对象，可以有不同的解释，产生不同的执行结果。"
   ]
  },
  {
   "cell_type": "code",
   "execution_count": 12,
   "metadata": {},
   "outputs": [],
   "source": [
    "class Man(Human):\n",
    "    def __init__(self, name, has_wife):\n",
    "        self.__name = name\n",
    "        self.__has_wife = has_wife"
   ]
  },
  {
   "cell_type": "markdown",
   "metadata": {},
   "source": [
    "# super函数\n",
    "\n",
    "super函数的语法\n",
    "```python\n",
    "super(type[ , object-or-type])\n",
    "\n",
    "```\n",
    "\n",
    "## 参数\n",
    "type -- 类  \n",
    "object-or-type -- 类，一般是self"
   ]
  },
  {
   "cell_type": "code",
   "execution_count": 13,
   "metadata": {},
   "outputs": [
    {
     "name": "stdout",
     "output_type": "stream",
     "text": [
      "3\n"
     ]
    }
   ],
   "source": [
    "class A:\n",
    "     def add(self, x):\n",
    "         y = x+1\n",
    "         print(y)\n",
    "class B(A):\n",
    "    def add(self, x):\n",
    "        super().add(x)\n",
    "b = B()\n",
    "b.add(2)  "
   ]
  },
  {
   "cell_type": "markdown",
   "metadata": {},
   "source": [
    "Class B继承了Class A的 add函数"
   ]
  },
  {
   "cell_type": "markdown",
   "metadata": {},
   "source": [
    "下面使用继承的方式来输入男人这个子类。"
   ]
  },
  {
   "cell_type": "code",
   "execution_count": 14,
   "metadata": {},
   "outputs": [],
   "source": [
    "class Man(Human):\n",
    "    def __init__(self, name, has_wife):\n",
    "        super().__init__(name)\n",
    "        self.__has_wife = has_wife"
   ]
  },
  {
   "cell_type": "markdown",
   "metadata": {},
   "source": [
    "super(Man, self).__init__(name)等价于调用了父类Human的构造函数，就不用再复制粘贴一遍了。"
   ]
  },
  {
   "cell_type": "code",
   "execution_count": 15,
   "metadata": {},
   "outputs": [],
   "source": [
    "class Woman(Human):\n",
    "    def __init__(self, name, has_husband):\n",
    "        super().__init__(name)\n",
    "        self.__has_husband = has_husband"
   ]
  },
  {
   "cell_type": "markdown",
   "metadata": {},
   "source": [
    "定义下男人女人的不同之处："
   ]
  },
  {
   "cell_type": "code",
   "execution_count": 16,
   "metadata": {},
   "outputs": [],
   "source": [
    "class Man(Human):\n",
    "    def __init__(self, name, has_wife):\n",
    "        self.__name = name\n",
    "        self.__has_wife = has_wife\n",
    "    def play_games(self):\n",
    "        print(\"A man usually likes playing some games\")\n",
    "    def sports(self):\n",
    "        print(\"A man usually like sports\")"
   ]
  },
  {
   "cell_type": "code",
   "execution_count": 17,
   "metadata": {},
   "outputs": [],
   "source": [
    "class Woman(Human):\n",
    "    def __init__(self, name, has_husband):\n",
    "        super().__init__(name)\n",
    "        self.__has_husband = has_husband\n",
    "    def shopping(self):\n",
    "        print(\"A woman usually likes to go shopping\")\n",
    "    def make_up(self):\n",
    "        print(\"A woman always makes up\")"
   ]
  },
  {
   "cell_type": "markdown",
   "metadata": {},
   "source": [
    "# 继承的补充\n",
    "\n",
    "经典的菱形继承案例，BC 继承 A，然后 D 继承 BC，创造一个 D 的对象。\n",
    "\n",
    "```\n",
    "     ---> B ---\n",
    "A --|          |--> D  \n",
    "     ---> C ---  \n",
    "```     \n",
    "     \n",
    "     \n",
    "使用 super() 可以很好地避免构造函数被调用两次。\n"
   ]
  },
  {
   "cell_type": "markdown",
   "metadata": {},
   "source": [
    " 继承顺序：**MRO规则**\n"
   ]
  },
  {
   "cell_type": "code",
   "execution_count": 18,
   "metadata": {},
   "outputs": [
    {
     "name": "stdout",
     "output_type": "stream",
     "text": [
      "enter D\n",
      "enter B\n",
      "enter C\n",
      "enter A\n",
      "leave A\n",
      "leave C\n",
      "leave B\n",
      "leave D\n"
     ]
    }
   ],
   "source": [
    "# 思考题正确答案\n",
    "\n",
    "\n",
    "class A():\n",
    "    def __init__(self):\n",
    "        print('enter A')\n",
    "        print('leave A')\n",
    "\n",
    "\n",
    "class B(A):\n",
    "    def __init__(self):\n",
    "        print('enter B')\n",
    "        super().__init__()\n",
    "        print('leave B')\n",
    "\n",
    "\n",
    "class C(A):\n",
    "    def __init__(self):\n",
    "        print('enter C')\n",
    "        super().__init__()\n",
    "        print('leave C')\n",
    "\n",
    "\n",
    "class D(B, C):\n",
    "    def __init__(self):\n",
    "        print('enter D')\n",
    "        super().__init__()\n",
    "        print('leave D')\n",
    "\n",
    "\n",
    "d = D()"
   ]
  },
  {
   "cell_type": "code",
   "execution_count": null,
   "metadata": {},
   "outputs": [],
   "source": []
  }
 ],
 "metadata": {
  "kernelspec": {
   "display_name": "Python 3",
   "language": "python",
   "name": "python3"
  },
  "language_info": {
   "codemirror_mode": {
    "name": "ipython",
    "version": 3
   },
   "file_extension": ".py",
   "mimetype": "text/x-python",
   "name": "python",
   "nbconvert_exporter": "python",
   "pygments_lexer": "ipython3",
   "version": "3.7.3"
  }
 },
 "nbformat": 4,
 "nbformat_minor": 2
}
